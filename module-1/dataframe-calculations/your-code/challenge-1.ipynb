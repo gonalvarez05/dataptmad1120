{
 "cells": [
  {
   "cell_type": "markdown",
   "metadata": {},
   "source": [
    "# Challenge 1\n",
    "\n",
    "In this challenge you will be working on **Pokemon**. You will answer a series of questions in order to practice dataframe calculation, aggregation, and transformation.\n",
    "\n",
    "![Pokemon](../images/pokemon.jpg)\n",
    "\n",
    "Follow the instructions below and enter your code.\n",
    "\n",
    "#### Import all required libraries."
   ]
  },
  {
   "cell_type": "code",
   "execution_count": 1,
   "metadata": {},
   "outputs": [],
   "source": [
    "# import libraries\n",
    "\n",
    "import pandas as pd"
   ]
  },
  {
   "cell_type": "markdown",
   "metadata": {},
   "source": [
    "#### Import data set.\n",
    "\n",
    "Import data set `Pokemon` from Ironhack's database. Read the data into a dataframe called `pokemon`.\n",
    "\n",
    "*Data set attributed to [Alberto Barradas](https://www.kaggle.com/abcsds/pokemon/)*"
   ]
  },
  {
   "cell_type": "code",
   "execution_count": 2,
   "metadata": {},
   "outputs": [],
   "source": [
    "# import data set from Ironhack's database\n",
    "\n",
    "df= pd.read_csv('../Pokemon.csv')"
   ]
  },
  {
   "cell_type": "markdown",
   "metadata": {},
   "source": [
    "#### Print first 10 rows of `pokemon`."
   ]
  },
  {
   "cell_type": "code",
   "execution_count": 4,
   "metadata": {},
   "outputs": [
    {
     "data": {
      "text/html": [
       "<div>\n",
       "<style scoped>\n",
       "    .dataframe tbody tr th:only-of-type {\n",
       "        vertical-align: middle;\n",
       "    }\n",
       "\n",
       "    .dataframe tbody tr th {\n",
       "        vertical-align: top;\n",
       "    }\n",
       "\n",
       "    .dataframe thead th {\n",
       "        text-align: right;\n",
       "    }\n",
       "</style>\n",
       "<table border=\"1\" class=\"dataframe\">\n",
       "  <thead>\n",
       "    <tr style=\"text-align: right;\">\n",
       "      <th></th>\n",
       "      <th>#</th>\n",
       "      <th>Name</th>\n",
       "      <th>Type 1</th>\n",
       "      <th>Type 2</th>\n",
       "      <th>Total</th>\n",
       "      <th>HP</th>\n",
       "      <th>Attack</th>\n",
       "      <th>Defense</th>\n",
       "      <th>Sp. Atk</th>\n",
       "      <th>Sp. Def</th>\n",
       "      <th>Speed</th>\n",
       "      <th>Generation</th>\n",
       "      <th>Legendary</th>\n",
       "    </tr>\n",
       "  </thead>\n",
       "  <tbody>\n",
       "    <tr>\n",
       "      <th>0</th>\n",
       "      <td>1</td>\n",
       "      <td>Bulbasaur</td>\n",
       "      <td>Grass</td>\n",
       "      <td>Poison</td>\n",
       "      <td>318</td>\n",
       "      <td>45</td>\n",
       "      <td>49</td>\n",
       "      <td>49</td>\n",
       "      <td>65</td>\n",
       "      <td>65</td>\n",
       "      <td>45</td>\n",
       "      <td>1</td>\n",
       "      <td>False</td>\n",
       "    </tr>\n",
       "    <tr>\n",
       "      <th>1</th>\n",
       "      <td>2</td>\n",
       "      <td>Ivysaur</td>\n",
       "      <td>Grass</td>\n",
       "      <td>Poison</td>\n",
       "      <td>405</td>\n",
       "      <td>60</td>\n",
       "      <td>62</td>\n",
       "      <td>63</td>\n",
       "      <td>80</td>\n",
       "      <td>80</td>\n",
       "      <td>60</td>\n",
       "      <td>1</td>\n",
       "      <td>False</td>\n",
       "    </tr>\n",
       "    <tr>\n",
       "      <th>2</th>\n",
       "      <td>3</td>\n",
       "      <td>Venusaur</td>\n",
       "      <td>Grass</td>\n",
       "      <td>Poison</td>\n",
       "      <td>525</td>\n",
       "      <td>80</td>\n",
       "      <td>82</td>\n",
       "      <td>83</td>\n",
       "      <td>100</td>\n",
       "      <td>100</td>\n",
       "      <td>80</td>\n",
       "      <td>1</td>\n",
       "      <td>False</td>\n",
       "    </tr>\n",
       "    <tr>\n",
       "      <th>3</th>\n",
       "      <td>3</td>\n",
       "      <td>VenusaurMega Venusaur</td>\n",
       "      <td>Grass</td>\n",
       "      <td>Poison</td>\n",
       "      <td>625</td>\n",
       "      <td>80</td>\n",
       "      <td>100</td>\n",
       "      <td>123</td>\n",
       "      <td>122</td>\n",
       "      <td>120</td>\n",
       "      <td>80</td>\n",
       "      <td>1</td>\n",
       "      <td>False</td>\n",
       "    </tr>\n",
       "    <tr>\n",
       "      <th>4</th>\n",
       "      <td>4</td>\n",
       "      <td>Charmander</td>\n",
       "      <td>Fire</td>\n",
       "      <td>NaN</td>\n",
       "      <td>309</td>\n",
       "      <td>39</td>\n",
       "      <td>52</td>\n",
       "      <td>43</td>\n",
       "      <td>60</td>\n",
       "      <td>50</td>\n",
       "      <td>65</td>\n",
       "      <td>1</td>\n",
       "      <td>False</td>\n",
       "    </tr>\n",
       "    <tr>\n",
       "      <th>5</th>\n",
       "      <td>5</td>\n",
       "      <td>Charmeleon</td>\n",
       "      <td>Fire</td>\n",
       "      <td>NaN</td>\n",
       "      <td>405</td>\n",
       "      <td>58</td>\n",
       "      <td>64</td>\n",
       "      <td>58</td>\n",
       "      <td>80</td>\n",
       "      <td>65</td>\n",
       "      <td>80</td>\n",
       "      <td>1</td>\n",
       "      <td>False</td>\n",
       "    </tr>\n",
       "    <tr>\n",
       "      <th>6</th>\n",
       "      <td>6</td>\n",
       "      <td>Charizard</td>\n",
       "      <td>Fire</td>\n",
       "      <td>Flying</td>\n",
       "      <td>534</td>\n",
       "      <td>78</td>\n",
       "      <td>84</td>\n",
       "      <td>78</td>\n",
       "      <td>109</td>\n",
       "      <td>85</td>\n",
       "      <td>100</td>\n",
       "      <td>1</td>\n",
       "      <td>False</td>\n",
       "    </tr>\n",
       "    <tr>\n",
       "      <th>7</th>\n",
       "      <td>6</td>\n",
       "      <td>CharizardMega Charizard X</td>\n",
       "      <td>Fire</td>\n",
       "      <td>Dragon</td>\n",
       "      <td>634</td>\n",
       "      <td>78</td>\n",
       "      <td>130</td>\n",
       "      <td>111</td>\n",
       "      <td>130</td>\n",
       "      <td>85</td>\n",
       "      <td>100</td>\n",
       "      <td>1</td>\n",
       "      <td>False</td>\n",
       "    </tr>\n",
       "    <tr>\n",
       "      <th>8</th>\n",
       "      <td>6</td>\n",
       "      <td>CharizardMega Charizard Y</td>\n",
       "      <td>Fire</td>\n",
       "      <td>Flying</td>\n",
       "      <td>634</td>\n",
       "      <td>78</td>\n",
       "      <td>104</td>\n",
       "      <td>78</td>\n",
       "      <td>159</td>\n",
       "      <td>115</td>\n",
       "      <td>100</td>\n",
       "      <td>1</td>\n",
       "      <td>False</td>\n",
       "    </tr>\n",
       "    <tr>\n",
       "      <th>9</th>\n",
       "      <td>7</td>\n",
       "      <td>Squirtle</td>\n",
       "      <td>Water</td>\n",
       "      <td>NaN</td>\n",
       "      <td>314</td>\n",
       "      <td>44</td>\n",
       "      <td>48</td>\n",
       "      <td>65</td>\n",
       "      <td>50</td>\n",
       "      <td>64</td>\n",
       "      <td>43</td>\n",
       "      <td>1</td>\n",
       "      <td>False</td>\n",
       "    </tr>\n",
       "  </tbody>\n",
       "</table>\n",
       "</div>"
      ],
      "text/plain": [
       "   #                       Name Type 1  Type 2  Total  HP  Attack  Defense  \\\n",
       "0  1                  Bulbasaur  Grass  Poison    318  45      49       49   \n",
       "1  2                    Ivysaur  Grass  Poison    405  60      62       63   \n",
       "2  3                   Venusaur  Grass  Poison    525  80      82       83   \n",
       "3  3      VenusaurMega Venusaur  Grass  Poison    625  80     100      123   \n",
       "4  4                 Charmander   Fire     NaN    309  39      52       43   \n",
       "5  5                 Charmeleon   Fire     NaN    405  58      64       58   \n",
       "6  6                  Charizard   Fire  Flying    534  78      84       78   \n",
       "7  6  CharizardMega Charizard X   Fire  Dragon    634  78     130      111   \n",
       "8  6  CharizardMega Charizard Y   Fire  Flying    634  78     104       78   \n",
       "9  7                   Squirtle  Water     NaN    314  44      48       65   \n",
       "\n",
       "   Sp. Atk  Sp. Def  Speed  Generation  Legendary  \n",
       "0       65       65     45           1      False  \n",
       "1       80       80     60           1      False  \n",
       "2      100      100     80           1      False  \n",
       "3      122      120     80           1      False  \n",
       "4       60       50     65           1      False  \n",
       "5       80       65     80           1      False  \n",
       "6      109       85    100           1      False  \n",
       "7      130       85    100           1      False  \n",
       "8      159      115    100           1      False  \n",
       "9       50       64     43           1      False  "
      ]
     },
     "execution_count": 4,
     "metadata": {},
     "output_type": "execute_result"
    }
   ],
   "source": [
    "# your code here\n",
    "df.head(10)"
   ]
  },
  {
   "cell_type": "markdown",
   "metadata": {},
   "source": [
    "When you look at a data set, you often wonder what each column means. Some open-source data sets provide descriptions of the data set. In many cases, data descriptions are extremely useful for data analysts to perform work efficiently and successfully.\n",
    "\n",
    "For the `Pokemon.csv` data set, fortunately, the owner provided descriptions which you can see [here](https://www.kaggle.com/abcsds/pokemon/home). For your convenience, we are including the descriptions below. Read the descriptions and understand what each column means. This knowledge is helpful in your work with the data.\n",
    "\n",
    "| Column | Description |\n",
    "| --- | --- |\n",
    "| # | ID for each pokemon |\n",
    "| Name | Name of each pokemon |\n",
    "| Type 1 | Each pokemon has a type, this determines weakness/resistance to attacks |\n",
    "| Type 2 | Some pokemon are dual type and have 2 |\n",
    "| Total | A general guide to how strong a pokemon is |\n",
    "| HP | Hit points, or health, defines how much damage a pokemon can withstand before fainting |\n",
    "| Attack | The base modifier for normal attacks (eg. Scratch, Punch) |\n",
    "| Defense | The base damage resistance against normal attacks |\n",
    "| SP Atk | Special attack, the base modifier for special attacks (e.g. fire blast, bubble beam) |\n",
    "| SP Def | The base damage resistance against special attacks |\n",
    "| Speed | Determines which pokemon attacks first each round |\n",
    "| Generation | Number of generation |\n",
    "| Legendary | True if Legendary Pokemon False if not |"
   ]
  },
  {
   "cell_type": "markdown",
   "metadata": {},
   "source": [
    "#### Obtain the distinct values across `Type 1` and `Type 2`.\n",
    "\n",
    "Exctract all the values in `Type 1` and `Type 2`. Then create an array containing the distinct values across both fields."
   ]
  },
  {
   "cell_type": "code",
   "execution_count": 9,
   "metadata": {},
   "outputs": [
    {
     "data": {
      "text/plain": [
       "array(['Poison', 'Poison', 'Poison', 'Poison', nan, nan, 'Flying',\n",
       "       'Dragon', 'Flying', nan, nan, nan, nan, nan, nan, 'Flying',\n",
       "       'Poison', 'Poison', 'Poison', 'Poison', 'Flying', 'Flying',\n",
       "       'Flying', 'Flying', nan, nan, 'Flying', 'Flying', nan, nan, nan,\n",
       "       nan, nan, nan, nan, nan, 'Ground', nan, nan, 'Ground', nan, nan,\n",
       "       nan, nan, 'Fairy', 'Fairy', 'Flying', 'Flying', 'Poison', 'Poison',\n",
       "       'Poison', 'Grass', 'Grass', 'Poison', 'Poison', nan, nan, nan, nan,\n",
       "       nan, nan, nan, nan, nan, nan, nan, nan, 'Fighting', nan, nan, nan,\n",
       "       nan, nan, nan, nan, 'Poison', 'Poison', 'Poison', 'Poison',\n",
       "       'Poison', 'Ground', 'Ground', 'Ground', nan, nan, 'Psychic',\n",
       "       'Psychic', 'Psychic', 'Steel', 'Steel', 'Flying', 'Flying',\n",
       "       'Flying', nan, 'Ice', nan, nan, nan, 'Ice', 'Poison', 'Poison',\n",
       "       'Poison', 'Poison', 'Ground', nan, nan, nan, nan, nan, nan,\n",
       "       'Psychic', 'Psychic', nan, nan, nan, nan, nan, nan, nan, 'Rock',\n",
       "       'Rock', nan, nan, nan, nan, nan, nan, nan, nan, nan, 'Psychic',\n",
       "       'Fairy', 'Flying', 'Psychic', nan, nan, nan, 'Flying', nan, nan,\n",
       "       'Flying', 'Dark', 'Ice', nan, nan, nan, nan, nan, nan, 'Water',\n",
       "       'Water', 'Water', 'Water', 'Flying', 'Flying', nan, 'Flying',\n",
       "       'Flying', 'Flying', nan, nan, 'Flying', nan, 'Fighting', nan, nan,\n",
       "       nan, nan, nan, nan, nan, nan, nan, nan, nan, nan, nan, 'Flying',\n",
       "       'Flying', 'Flying', 'Flying', 'Poison', 'Poison', 'Flying',\n",
       "       'Electric', 'Electric', nan, nan, 'Fairy', nan, 'Flying', 'Flying',\n",
       "       'Flying', nan, nan, nan, 'Dragon', nan, 'Fairy', 'Fairy', nan, nan,\n",
       "       'Flying', 'Flying', 'Flying', nan, nan, nan, 'Flying', 'Ground',\n",
       "       'Ground', nan, nan, 'Flying', 'Psychic', nan, nan, nan, 'Psychic',\n",
       "       nan, 'Steel', nan, 'Flying', 'Ground', 'Ground', nan, nan,\n",
       "       'Poison', 'Steel', 'Steel', 'Rock', 'Fighting', 'Fighting', 'Ice',\n",
       "       nan, nan, nan, 'Rock', 'Ground', 'Ground', 'Rock', nan, nan,\n",
       "       'Flying', 'Flying', 'Flying', 'Fire', 'Fire', 'Fire', 'Dragon',\n",
       "       nan, nan, nan, nan, nan, nan, nan, 'Psychic', nan, nan, nan, nan,\n",
       "       nan, nan, nan, 'Ground', 'Ground', 'Dark', 'Dark', 'Flying',\n",
       "       'Flying', 'Grass', nan, nan, nan, 'Dragon', nan, 'Fighting',\n",
       "       'Fighting', 'Fighting', nan, 'Ground', 'Ground', 'Ground', nan,\n",
       "       nan, nan, nan, nan, nan, 'Flying', nan, 'Poison', 'Grass', 'Grass',\n",
       "       'Grass', nan, 'Dark', 'Dark', 'Flying', 'Flying', 'Flying',\n",
       "       'Flying', 'Fairy', 'Fairy', 'Fairy', 'Fairy', 'Water', 'Flying',\n",
       "       nan, 'Fighting', nan, nan, nan, 'Ground', 'Flying', 'Ghost', nan,\n",
       "       nan, nan, nan, nan, 'Fairy', nan, nan, nan, 'Ghost', 'Ghost',\n",
       "       'Fairy', 'Fairy', 'Rock', 'Rock', 'Rock', nan, 'Psychic',\n",
       "       'Psychic', 'Psychic', nan, nan, nan, nan, nan, nan, nan, 'Poison',\n",
       "       nan, nan, 'Dark', 'Dark', 'Dark', nan, nan, 'Ground', 'Ground',\n",
       "       'Ground', nan, nan, nan, nan, nan, 'Dragon', 'Dragon', nan, 'Dark',\n",
       "       'Flying', 'Flying', 'Fairy', nan, nan, 'Psychic', 'Psychic',\n",
       "       'Ground', 'Ground', nan, 'Dark', 'Psychic', 'Psychic', 'Grass',\n",
       "       'Grass', 'Bug', 'Bug', nan, nan, nan, nan, nan, nan, nan, nan, nan,\n",
       "       'Flying', nan, nan, nan, nan, nan, nan, nan, 'Water', 'Water',\n",
       "       'Water', nan, nan, nan, 'Rock', nan, nan, nan, 'Flying', 'Flying',\n",
       "       'Psychic', 'Psychic', 'Psychic', 'Psychic', nan, nan, nan,\n",
       "       'Psychic', 'Psychic', 'Psychic', 'Psychic', nan, nan, nan, 'Fire',\n",
       "       'Flying', 'Flying', 'Psychic', nan, nan, nan, nan, nan, nan,\n",
       "       'Ground', nan, 'Fighting', 'Fighting', nan, nan, 'Steel', 'Flying',\n",
       "       'Flying', 'Flying', nan, 'Water', nan, nan, nan, nan, nan,\n",
       "       'Poison', 'Poison', nan, nan, 'Steel', 'Steel', nan, 'Grass',\n",
       "       'Ground', 'Steel', 'Flying', 'Flying', 'Flying', nan, nan, nan,\n",
       "       nan, nan, nan, 'Ground', nan, 'Flying', 'Flying', nan, nan,\n",
       "       'Fighting', nan, 'Flying', nan, nan, nan, 'Dark', 'Dark',\n",
       "       'Psychic', 'Psychic', nan, 'Fairy', nan, 'Flying', 'Dark',\n",
       "       'Ground', 'Ground', 'Ground', 'Ground', nan, nan, 'Steel', 'Steel',\n",
       "       nan, nan, 'Bug', 'Dark', 'Fighting', 'Fighting', nan, nan, nan,\n",
       "       'Flying', 'Ice', 'Ice', 'Ice', 'Ice', 'Steel', nan, 'Rock', nan,\n",
       "       nan, nan, 'Flying', 'Flying', nan, nan, 'Flying', 'Ground', nan,\n",
       "       'Fighting', 'Fighting', 'Steel', nan, 'Ghost', 'Ghost', 'Fire',\n",
       "       'Water', 'Ice', 'Flying', 'Grass', nan, nan, nan, 'Dragon',\n",
       "       'Dragon', 'Steel', nan, 'Dragon', 'Dragon', nan, nan, nan, nan,\n",
       "       nan, 'Flying', nan, 'Fire', nan, nan, nan, nan, 'Fighting',\n",
       "       'Fighting', nan, nan, nan, nan, nan, nan, nan, nan, nan, nan, nan,\n",
       "       nan, nan, nan, nan, nan, nan, nan, 'Flying', 'Flying', 'Flying',\n",
       "       nan, nan, nan, nan, nan, 'Flying', 'Flying', nan, 'Steel', nan,\n",
       "       'Fairy', nan, nan, nan, nan, 'Ground', 'Ground', nan, nan, 'Grass',\n",
       "       'Grass', 'Grass', 'Poison', 'Poison', 'Poison', 'Fairy', 'Fairy',\n",
       "       nan, nan, nan, 'Dark', 'Dark', 'Dark', nan, nan, 'Psychic', nan,\n",
       "       'Rock', 'Rock', 'Fighting', 'Fighting', 'Flying', nan, nan, 'Rock',\n",
       "       'Rock', 'Flying', 'Flying', nan, nan, nan, nan, nan, nan, nan, nan,\n",
       "       nan, nan, nan, nan, 'Flying', 'Flying', nan, nan, nan, 'Grass',\n",
       "       'Grass', 'Flying', nan, 'Steel', 'Poison', 'Poison', 'Ghost',\n",
       "       'Ghost', nan, 'Electric', 'Electric', 'Steel', 'Steel', nan, nan,\n",
       "       nan, nan, nan, nan, nan, nan, 'Fire', 'Fire', 'Fire', nan, nan,\n",
       "       nan, nan, nan, nan, nan, nan, 'Electric', nan, nan, nan, 'Ghost',\n",
       "       'Ghost', 'Steel', 'Steel', nan, 'Flying', 'Flying', 'Flying',\n",
       "       'Flying', nan, 'Steel', 'Dragon', 'Dragon', 'Dragon', 'Fire',\n",
       "       'Fire', 'Fighting', 'Fighting', 'Fighting', nan, nan, 'Flying',\n",
       "       'Flying', 'Fire', 'Electric', 'Flying', 'Flying', 'Ice', 'Ice',\n",
       "       'Ice', 'Fighting', 'Fighting', 'Psychic', 'Fighting', 'Steel', nan,\n",
       "       nan, 'Fighting', nan, nan, 'Psychic', nan, nan, 'Dark', nan,\n",
       "       'Ground', 'Flying', 'Flying', 'Flying', nan, nan, 'Flying',\n",
       "       'Normal', 'Normal', nan, nan, nan, nan, nan, nan, 'Dark', nan, nan,\n",
       "       nan, nan, 'Ghost', 'Ghost', 'Ghost', 'Ghost', nan, nan, nan, nan,\n",
       "       'Psychic', 'Psychic', 'Water', 'Water', 'Water', 'Dragon', nan,\n",
       "       nan, 'Normal', 'Normal', 'Dragon', 'Dragon', 'Ice', 'Ice', nan,\n",
       "       'Flying', 'Fairy', 'Fairy', nan, nan, nan, 'Fairy', 'Grass',\n",
       "       'Grass', 'Grass', 'Grass', 'Grass', 'Grass', 'Grass', 'Grass',\n",
       "       'Grass', 'Grass', nan, nan, 'Dragon', 'Dragon', nan, 'Flying',\n",
       "       'Ground', 'Fairy', 'Fairy', 'Ghost', 'Dark', 'Water'], dtype=object)"
      ]
     },
     "execution_count": 9,
     "metadata": {},
     "output_type": "execute_result"
    }
   ],
   "source": [
    "# your code here\n",
    "\n",
    "df['Type 1'].values\n",
    "df['Type 2'].values\n",
    "\n"
   ]
  },
  {
   "cell_type": "markdown",
   "metadata": {},
   "source": [
    "#### Cleanup `Name` that contain \"Mega\".\n",
    "\n",
    "If you have checked out the pokemon names carefully enough, you should have found there are junk texts in the pokemon names which contain \"Mega\". We want to clean up the pokemon names. For instance, \"VenusaurMega Venusaur\" should be \"Mega Venusaur\", and \"CharizardMega Charizard X\" should be \"Mega Charizard X\"."
   ]
  },
  {
   "cell_type": "code",
   "execution_count": null,
   "metadata": {},
   "outputs": [],
   "source": [
    "# your code here\n",
    "\n",
    "\n",
    "# test transformed data\n",
    "pokemon.head(10)"
   ]
  },
  {
   "cell_type": "markdown",
   "metadata": {},
   "source": [
    "#### Create a new column called `A/D Ratio` whose value equals to `Attack` devided by `Defense`.\n",
    "\n",
    "For instance, if a pokemon has the Attack score 49 and Defense score 49, the corresponding `A/D Ratio` is 49/49=1."
   ]
  },
  {
   "cell_type": "code",
   "execution_count": null,
   "metadata": {},
   "outputs": [],
   "source": [
    "# your code here"
   ]
  },
  {
   "cell_type": "markdown",
   "metadata": {},
   "source": [
    "#### Identify the pokemon with the highest `A/D Ratio`."
   ]
  },
  {
   "cell_type": "code",
   "execution_count": null,
   "metadata": {},
   "outputs": [],
   "source": [
    "# your code here"
   ]
  },
  {
   "cell_type": "markdown",
   "metadata": {},
   "source": [
    "#### Identify the pokemon with the lowest A/D Ratio."
   ]
  },
  {
   "cell_type": "code",
   "execution_count": null,
   "metadata": {},
   "outputs": [],
   "source": [
    "# your code here"
   ]
  },
  {
   "cell_type": "markdown",
   "metadata": {},
   "source": [
    "#### Create a new column called `Combo Type` whose value combines `Type 1` and `Type 2`.\n",
    "\n",
    "Rules:\n",
    "\n",
    "* If both `Type 1` and `Type 2` have valid values, the `Combo Type` value should contain both values in the form of `<Type 1> <Type 2>`. For example, if `Type 1` value is `Grass` and `Type 2` value is `Poison`, `Combo Type` will be `Grass-Poison`.\n",
    "\n",
    "* If `Type 1` has valid value but `Type 2` is not, `Combo Type` will be the same as `Type 1`. For example, if `Type 1` is `Fire` whereas `Type 2` is `NaN`, `Combo Type` will be `Fire`."
   ]
  },
  {
   "cell_type": "code",
   "execution_count": null,
   "metadata": {},
   "outputs": [],
   "source": [
    "# your code here"
   ]
  },
  {
   "cell_type": "markdown",
   "metadata": {},
   "source": [
    "#### Identify the pokemon whose `A/D Ratio` are among the top 5."
   ]
  },
  {
   "cell_type": "code",
   "execution_count": null,
   "metadata": {},
   "outputs": [],
   "source": [
    "# your code here"
   ]
  },
  {
   "cell_type": "markdown",
   "metadata": {},
   "source": [
    "#### For the 5 pokemon printed above, aggregate `Combo Type` and use a list to store the unique values.\n",
    "\n",
    "Your end product is a list containing the distinct `Combo Type` values of the 5 pokemon with the highest `A/D Ratio`."
   ]
  },
  {
   "cell_type": "code",
   "execution_count": null,
   "metadata": {},
   "outputs": [],
   "source": [
    "# your code here"
   ]
  },
  {
   "cell_type": "markdown",
   "metadata": {},
   "source": [
    "#### For each of the `Combo Type` values obtained from the previous question, calculate the mean scores of all numeric fields across all pokemon.\n",
    "\n",
    "Your output should look like below:\n",
    "\n",
    "![Aggregate](../images/aggregated-mean.png)"
   ]
  },
  {
   "cell_type": "code",
   "execution_count": null,
   "metadata": {},
   "outputs": [],
   "source": [
    "# your code here"
   ]
  }
 ],
 "metadata": {
  "kernelspec": {
   "display_name": "Python [conda env:ironhack_env]",
   "language": "python",
   "name": "conda-env-ironhack_env-py"
  },
  "language_info": {
   "codemirror_mode": {
    "name": "ipython",
    "version": 3
   },
   "file_extension": ".py",
   "mimetype": "text/x-python",
   "name": "python",
   "nbconvert_exporter": "python",
   "pygments_lexer": "ipython3",
   "version": "3.8.5"
  }
 },
 "nbformat": 4,
 "nbformat_minor": 4
}
