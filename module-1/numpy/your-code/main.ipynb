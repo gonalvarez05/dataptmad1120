{
 "cells": [
  {
   "cell_type": "markdown",
   "metadata": {},
   "source": [
    "# Introduction to NumPy\n",
    "\n",
    "\n",
    "#### 1. Import NumPy under the name np."
   ]
  },
  {
   "cell_type": "code",
   "execution_count": 1,
   "metadata": {},
   "outputs": [],
   "source": [
    "# your code here\n",
    "\n",
    "import numpy as np"
   ]
  },
  {
   "cell_type": "markdown",
   "metadata": {},
   "source": [
    "#### 2. Print your NumPy version."
   ]
  },
  {
   "cell_type": "code",
   "execution_count": 2,
   "metadata": {},
   "outputs": [
    {
     "name": "stdout",
     "output_type": "stream",
     "text": [
      "1.19.2\n"
     ]
    }
   ],
   "source": [
    "# your code here\n",
    "print(np.__version__)"
   ]
  },
  {
   "cell_type": "markdown",
   "metadata": {},
   "source": [
    "#### 3. Generate a 2x3x5 3-dimensional array with random values. Assign the array to variable *a*.\n",
    "**Challenge**: there are at least three easy ways that use numpy to generate random arrays. How many ways can you find?"
   ]
  },
  {
   "cell_type": "code",
   "execution_count": 3,
   "metadata": {},
   "outputs": [
    {
     "data": {
      "text/plain": [
       "array([[[0.05389045, 0.44965793, 0.9213233 , 0.1290183 , 0.85342749],\n",
       "        [0.95654534, 0.33490361, 0.76484203, 0.96294989, 0.76894901],\n",
       "        [0.62734272, 0.93754376, 0.69649845, 0.65756092, 0.99551854]],\n",
       "\n",
       "       [[0.01939399, 0.46949286, 0.9304927 , 0.53957052, 0.33788438],\n",
       "        [0.07480088, 0.44108708, 0.04864452, 0.52680375, 0.01088271],\n",
       "        [0.42337738, 0.96179857, 0.76728984, 0.37815386, 0.21250148]]])"
      ]
     },
     "execution_count": 3,
     "metadata": {},
     "output_type": "execute_result"
    }
   ],
   "source": [
    "# Method 1\n",
    "a=np.random.random((2,3,5))\n",
    "a\n"
   ]
  },
  {
   "cell_type": "code",
   "execution_count": 4,
   "metadata": {},
   "outputs": [
    {
     "data": {
      "text/plain": [
       "array([[[22, 58, 28, 23, 55],\n",
       "        [14, 13, 71,  4, 65],\n",
       "        [67, 48, 62, 22, 29]],\n",
       "\n",
       "       [[56,  0, 58, 71, 14],\n",
       "        [87, 65, 64, 75,  2],\n",
       "        [41,  1, 27, 81,  7]]])"
      ]
     },
     "execution_count": 4,
     "metadata": {},
     "output_type": "execute_result"
    }
   ],
   "source": [
    "# Method 2\n",
    "np.random.randint(low=0, high=100, size=(2,3,5))"
   ]
  },
  {
   "cell_type": "code",
   "execution_count": 5,
   "metadata": {},
   "outputs": [
    {
     "data": {
      "text/plain": [
       "array([[[0.35253864, 0.44872972, 0.96882005, 0.57462246, 0.84554057],\n",
       "        [0.79568253, 0.8958756 , 0.53660191, 0.90760459, 0.62005866],\n",
       "        [0.93368299, 0.71301382, 0.20922914, 0.28759625, 0.31331296]],\n",
       "\n",
       "       [[0.95082637, 0.6693058 , 0.40529083, 0.68497231, 0.41574959],\n",
       "        [0.44700632, 0.63027659, 0.88560692, 0.50330621, 0.3529045 ],\n",
       "        [0.23140447, 0.82196692, 0.20763845, 0.99958717, 0.22895079]]])"
      ]
     },
     "execution_count": 5,
     "metadata": {},
     "output_type": "execute_result"
    }
   ],
   "source": [
    "# Method 3\n",
    "\n",
    "np.random.rand(2,3,5)"
   ]
  },
  {
   "cell_type": "markdown",
   "metadata": {},
   "source": [
    "#### 4. Print *a*.\n"
   ]
  },
  {
   "cell_type": "code",
   "execution_count": 6,
   "metadata": {},
   "outputs": [
    {
     "name": "stdout",
     "output_type": "stream",
     "text": [
      "[[[0.05389045 0.44965793 0.9213233  0.1290183  0.85342749]\n",
      "  [0.95654534 0.33490361 0.76484203 0.96294989 0.76894901]\n",
      "  [0.62734272 0.93754376 0.69649845 0.65756092 0.99551854]]\n",
      "\n",
      " [[0.01939399 0.46949286 0.9304927  0.53957052 0.33788438]\n",
      "  [0.07480088 0.44108708 0.04864452 0.52680375 0.01088271]\n",
      "  [0.42337738 0.96179857 0.76728984 0.37815386 0.21250148]]]\n"
     ]
    }
   ],
   "source": [
    "# your code here\n",
    "\n",
    "print(a)"
   ]
  },
  {
   "cell_type": "markdown",
   "metadata": {},
   "source": [
    "#### 5. Create a 5x2x3 3-dimensional array with all values equaling 1. Assign the array to variable *b*."
   ]
  },
  {
   "cell_type": "code",
   "execution_count": 7,
   "metadata": {},
   "outputs": [],
   "source": [
    "# your code here\n",
    "b=np.ones((5,2,3))"
   ]
  },
  {
   "cell_type": "markdown",
   "metadata": {},
   "source": [
    "#### 6. Print *b*.\n"
   ]
  },
  {
   "cell_type": "code",
   "execution_count": 8,
   "metadata": {},
   "outputs": [
    {
     "name": "stdout",
     "output_type": "stream",
     "text": [
      "[[[1. 1. 1.]\n",
      "  [1. 1. 1.]]\n",
      "\n",
      " [[1. 1. 1.]\n",
      "  [1. 1. 1.]]\n",
      "\n",
      " [[1. 1. 1.]\n",
      "  [1. 1. 1.]]\n",
      "\n",
      " [[1. 1. 1.]\n",
      "  [1. 1. 1.]]\n",
      "\n",
      " [[1. 1. 1.]\n",
      "  [1. 1. 1.]]]\n"
     ]
    }
   ],
   "source": [
    "# your code here\n",
    "print(b)"
   ]
  },
  {
   "cell_type": "markdown",
   "metadata": {},
   "source": [
    "#### 7. Do *a* and *b* have the same size? How do you prove that in Python code?"
   ]
  },
  {
   "cell_type": "code",
   "execution_count": 9,
   "metadata": {},
   "outputs": [
    {
     "data": {
      "text/plain": [
       "True"
      ]
     },
     "execution_count": 9,
     "metadata": {},
     "output_type": "execute_result"
    }
   ],
   "source": [
    "# your code here\n",
    "\n",
    "a.size==b.size"
   ]
  },
  {
   "cell_type": "markdown",
   "metadata": {},
   "source": [
    "#### 8. Are you able to add *a* and *b*? Why or why not?\n"
   ]
  },
  {
   "cell_type": "code",
   "execution_count": 10,
   "metadata": {},
   "outputs": [
    {
     "ename": "ValueError",
     "evalue": "operands could not be broadcast together with shapes (2,3,5) (5,2,3) ",
     "output_type": "error",
     "traceback": [
      "\u001b[0;31m---------------------------------------------------------------------------\u001b[0m",
      "\u001b[0;31mValueError\u001b[0m                                Traceback (most recent call last)",
      "\u001b[0;32m<ipython-input-10-26bd7aa07f66>\u001b[0m in \u001b[0;36m<module>\u001b[0;34m\u001b[0m\n\u001b[1;32m      1\u001b[0m \u001b[0;31m# your answer here\u001b[0m\u001b[0;34m\u001b[0m\u001b[0;34m\u001b[0m\u001b[0;34m\u001b[0m\u001b[0m\n\u001b[1;32m      2\u001b[0m \u001b[0;34m\u001b[0m\u001b[0m\n\u001b[0;32m----> 3\u001b[0;31m \u001b[0ma\u001b[0m\u001b[0;34m+\u001b[0m\u001b[0mb\u001b[0m\u001b[0;34m\u001b[0m\u001b[0;34m\u001b[0m\u001b[0m\n\u001b[0m\u001b[1;32m      4\u001b[0m \u001b[0;34m\u001b[0m\u001b[0m\n\u001b[1;32m      5\u001b[0m \u001b[0;31m#We can´t add a to b because they don´t have the same shape. a=(2,3,5) and b=(5,2,3)\u001b[0m\u001b[0;34m\u001b[0m\u001b[0;34m\u001b[0m\u001b[0;34m\u001b[0m\u001b[0m\n",
      "\u001b[0;31mValueError\u001b[0m: operands could not be broadcast together with shapes (2,3,5) (5,2,3) "
     ]
    }
   ],
   "source": [
    "# your answer here\n",
    "\n",
    "a+b\n",
    "\n",
    "#We can´t add a to b because they don´t have the same shape. a=(2,3,5) and b=(5,2,3)"
   ]
  },
  {
   "cell_type": "markdown",
   "metadata": {},
   "source": [
    "#### 9. Transpose *b* so that it has the same structure of *a* (i.e. become a 2x3x5 array). Assign the transposed array to variable *c*."
   ]
  },
  {
   "cell_type": "code",
   "execution_count": 11,
   "metadata": {},
   "outputs": [
    {
     "name": "stdout",
     "output_type": "stream",
     "text": [
      "[[[1. 1. 1. 1. 1.]\n",
      "  [1. 1. 1. 1. 1.]\n",
      "  [1. 1. 1. 1. 1.]]\n",
      "\n",
      " [[1. 1. 1. 1. 1.]\n",
      "  [1. 1. 1. 1. 1.]\n",
      "  [1. 1. 1. 1. 1.]]]\n"
     ]
    }
   ],
   "source": [
    "# your code here\n",
    "\n",
    "c=b.transpose(1,2,0)\n",
    "print(c)"
   ]
  },
  {
   "cell_type": "markdown",
   "metadata": {},
   "source": [
    "#### 10. Try to add *a* and *c*. Now it should work. Assign the sum to variable *d*. But why does it work now?"
   ]
  },
  {
   "cell_type": "code",
   "execution_count": 12,
   "metadata": {},
   "outputs": [
    {
     "data": {
      "text/plain": [
       "array([[[1.05389045, 1.44965793, 1.9213233 , 1.1290183 , 1.85342749],\n",
       "        [1.95654534, 1.33490361, 1.76484203, 1.96294989, 1.76894901],\n",
       "        [1.62734272, 1.93754376, 1.69649845, 1.65756092, 1.99551854]],\n",
       "\n",
       "       [[1.01939399, 1.46949286, 1.9304927 , 1.53957052, 1.33788438],\n",
       "        [1.07480088, 1.44108708, 1.04864452, 1.52680375, 1.01088271],\n",
       "        [1.42337738, 1.96179857, 1.76728984, 1.37815386, 1.21250148]]])"
      ]
     },
     "execution_count": 12,
     "metadata": {},
     "output_type": "execute_result"
    }
   ],
   "source": [
    "# your code/answer here\n",
    "\n",
    "d=a+c\n",
    "d\n",
    "\n",
    "#It works because both arrays have the same shape."
   ]
  },
  {
   "cell_type": "markdown",
   "metadata": {},
   "source": [
    "#### 11. Print *a* and *d*. Notice the difference and relation of the two array in terms of the values? Explain."
   ]
  },
  {
   "cell_type": "code",
   "execution_count": 13,
   "metadata": {},
   "outputs": [
    {
     "name": "stdout",
     "output_type": "stream",
     "text": [
      "[[[0.05389045 0.44965793 0.9213233  0.1290183  0.85342749]\n",
      "  [0.95654534 0.33490361 0.76484203 0.96294989 0.76894901]\n",
      "  [0.62734272 0.93754376 0.69649845 0.65756092 0.99551854]]\n",
      "\n",
      " [[0.01939399 0.46949286 0.9304927  0.53957052 0.33788438]\n",
      "  [0.07480088 0.44108708 0.04864452 0.52680375 0.01088271]\n",
      "  [0.42337738 0.96179857 0.76728984 0.37815386 0.21250148]]]\n",
      "[[[1.05389045 1.44965793 1.9213233  1.1290183  1.85342749]\n",
      "  [1.95654534 1.33490361 1.76484203 1.96294989 1.76894901]\n",
      "  [1.62734272 1.93754376 1.69649845 1.65756092 1.99551854]]\n",
      "\n",
      " [[1.01939399 1.46949286 1.9304927  1.53957052 1.33788438]\n",
      "  [1.07480088 1.44108708 1.04864452 1.52680375 1.01088271]\n",
      "  [1.42337738 1.96179857 1.76728984 1.37815386 1.21250148]]]\n"
     ]
    }
   ],
   "source": [
    "# your code/answer here\n",
    "print(a)\n",
    "\n",
    "\n",
    "print(d)\n"
   ]
  },
  {
   "cell_type": "markdown",
   "metadata": {},
   "source": [
    "#### 12. Multiply *a* and *c*. Assign the result to *e*."
   ]
  },
  {
   "cell_type": "code",
   "execution_count": 14,
   "metadata": {},
   "outputs": [
    {
     "name": "stdout",
     "output_type": "stream",
     "text": [
      "[[[0.05389045 0.44965793 0.9213233  0.1290183  0.85342749]\n",
      "  [0.95654534 0.33490361 0.76484203 0.96294989 0.76894901]\n",
      "  [0.62734272 0.93754376 0.69649845 0.65756092 0.99551854]]\n",
      "\n",
      " [[0.01939399 0.46949286 0.9304927  0.53957052 0.33788438]\n",
      "  [0.07480088 0.44108708 0.04864452 0.52680375 0.01088271]\n",
      "  [0.42337738 0.96179857 0.76728984 0.37815386 0.21250148]]]\n"
     ]
    }
   ],
   "source": [
    "# your code here\n",
    "e=a*c\n",
    "print(e)"
   ]
  },
  {
   "cell_type": "markdown",
   "metadata": {},
   "source": [
    "#### 13. Does *e* equal to *a*? Why or why not?\n"
   ]
  },
  {
   "cell_type": "code",
   "execution_count": 15,
   "metadata": {},
   "outputs": [
    {
     "data": {
      "text/plain": [
       "array([[[ True,  True,  True,  True,  True],\n",
       "        [ True,  True,  True,  True,  True],\n",
       "        [ True,  True,  True,  True,  True]],\n",
       "\n",
       "       [[ True,  True,  True,  True,  True],\n",
       "        [ True,  True,  True,  True,  True],\n",
       "        [ True,  True,  True,  True,  True]]])"
      ]
     },
     "execution_count": 15,
     "metadata": {},
     "output_type": "execute_result"
    }
   ],
   "source": [
    "# your code/answer here\n",
    "\n",
    "a==e\n",
    "\n",
    "#Yes, it´s equal beacause array c is the traspose of ones array.\n"
   ]
  },
  {
   "cell_type": "markdown",
   "metadata": {},
   "source": [
    "#### 14. Identify the max, min, and mean values in *d*. Assign those values to variables *d_max*, *d_min* and *d_mean*."
   ]
  },
  {
   "cell_type": "code",
   "execution_count": 16,
   "metadata": {},
   "outputs": [
    {
     "name": "stdout",
     "output_type": "stream",
     "text": [
      "1.9955185414966896\n",
      "1.0108827075423146\n",
      "1.5417382085834566\n"
     ]
    }
   ],
   "source": [
    "# your code here\n",
    "\n",
    "d_max=np.max(d)\n",
    "print(d_max)\n",
    "\n",
    "d_min=np.min(d)\n",
    "print(d_min)\n",
    "\n",
    "d_mean=np.mean(d)\n",
    "print(d_mean)\n"
   ]
  },
  {
   "cell_type": "markdown",
   "metadata": {},
   "source": [
    "#### 15. Now we want to label the values in *d*. First create an empty array *f* with the same shape (i.e. 2x3x5) as *d* using `np.empty`.\n"
   ]
  },
  {
   "cell_type": "code",
   "execution_count": 17,
   "metadata": {},
   "outputs": [
    {
     "data": {
      "text/plain": [
       "array([[[0.05389045, 0.44965793, 0.9213233 , 0.1290183 , 0.85342749],\n",
       "        [0.95654534, 0.33490361, 0.76484203, 0.96294989, 0.76894901],\n",
       "        [0.62734272, 0.93754376, 0.69649845, 0.65756092, 0.99551854]],\n",
       "\n",
       "       [[0.01939399, 0.46949286, 0.9304927 , 0.53957052, 0.33788438],\n",
       "        [0.07480088, 0.44108708, 0.04864452, 0.52680375, 0.01088271],\n",
       "        [0.42337738, 0.96179857, 0.76728984, 0.37815386, 0.21250148]]])"
      ]
     },
     "execution_count": 17,
     "metadata": {},
     "output_type": "execute_result"
    }
   ],
   "source": [
    "# your code here\n",
    "\n",
    "f=np.empty([2,3,5])\n",
    "\n",
    "f"
   ]
  },
  {
   "cell_type": "markdown",
   "metadata": {},
   "source": [
    "#### 16. Populate the values in *f*. \n",
    "\n",
    "For each value in *d*, if it's larger than *d_min* but smaller than *d_mean*, assign 25 to the corresponding value in *f*. If a value in *d* is larger than *d_mean* but smaller than *d_max*, assign 75 to the corresponding value in *f*. If a value equals to *d_mean*, assign 50 to the corresponding value in *f*. Assign 0 to the corresponding value(s) in *f* for *d_min* in *d*. Assign 100 to the corresponding value(s) in *f* for *d_max* in *d*. In the end, f should have only the following values: 0, 25, 50, 75, and 100.\n",
    "\n",
    "**Note**: you don't have to use Numpy in this question."
   ]
  },
  {
   "cell_type": "code",
   "execution_count": 18,
   "metadata": {},
   "outputs": [
    {
     "name": "stdout",
     "output_type": "stream",
     "text": [
      "[[[1.05389045 1.44965793 1.9213233  1.1290183  1.85342749]\n",
      "  [1.95654534 1.33490361 1.76484203 1.96294989 1.76894901]\n",
      "  [1.62734272 1.93754376 1.69649845 1.65756092 1.99551854]]\n",
      "\n",
      " [[1.01939399 1.46949286 1.9304927  1.53957052 1.33788438]\n",
      "  [1.07480088 1.44108708 1.04864452 1.52680375 1.01088271]\n",
      "  [1.42337738 1.96179857 1.76728984 1.37815386 1.21250148]]]\n"
     ]
    }
   ],
   "source": [
    "print(d)"
   ]
  },
  {
   "cell_type": "code",
   "execution_count": 19,
   "metadata": {},
   "outputs": [],
   "source": [
    "# your code here\n",
    "\n",
    "for x in range(len(d)):\n",
    "    for y in range(len(d[x])):\n",
    "        for z in range(len(d[x,y])):\n",
    "            \n",
    "            item=d[x,y,z]\n",
    "            \n",
    "            if item > d_min and item < d_mean:\n",
    "                f[x,y,z] = 25\n",
    "                \n",
    "            elif item > d_mean and item < d_max:\n",
    "                f[x,y,z] = 75\n",
    "                \n",
    "            elif item == d_mean:\n",
    "                f[x,y,z] = 50\n",
    "                \n",
    "            elif item == d_min:\n",
    "                f[x,y,z] = 0\n",
    "                \n",
    "            else:\n",
    "                f[x,y,z] = 100\n",
    "\n",
    "            \n",
    "            \n",
    "            \n",
    "\n",
    "\n",
    "\n"
   ]
  },
  {
   "cell_type": "markdown",
   "metadata": {},
   "source": [
    "#### 17. Print *d* and *f*. Do you have your expected *f*?\n",
    "For instance, if your *d* is:\n",
    "```python\n",
    "[[[1.85836099, 1.67064465, 1.62576044, 1.40243961, 1.88454931],\n",
    "[1.75354326, 1.69403643, 1.36729252, 1.61415071, 1.12104981],\n",
    "[1.72201435, 1.1862918 , 1.87078449, 1.7726778 , 1.88180042]],\n",
    "[[1.44747908, 1.31673383, 1.02000951, 1.52218947, 1.97066381],\n",
    "[1.79129243, 1.74983003, 1.96028037, 1.85166831, 1.65450881],\n",
    "[1.18068344, 1.9587381 , 1.00656599, 1.93402165, 1.73514584]]]\n",
    "```\n",
    "Your *f* should be:\n",
    "```python\n",
    "[[[ 75.,  75.,  75.,  25.,  75.],\n",
    "[ 75.,  75.,  25.,  25.,  25.],\n",
    "[ 75.,  25.,  75.,  75.,  75.]],\n",
    "[[ 25.,  25.,  25.,  25., 100.],\n",
    "[ 75.,  75.,  75.,  75.,  75.],\n",
    "[ 25.,  75.,   0.,  75.,  75.]]]\n",
    "```"
   ]
  },
  {
   "cell_type": "code",
   "execution_count": 44,
   "metadata": {},
   "outputs": [
    {
     "name": "stdout",
     "output_type": "stream",
     "text": [
      "[[[1.05389045 1.44965793 1.9213233  1.1290183  1.85342749]\n",
      "  [1.95654534 1.33490361 1.76484203 1.96294989 1.76894901]\n",
      "  [1.62734272 1.93754376 1.69649845 1.65756092 1.99551854]]\n",
      "\n",
      " [[1.01939399 1.46949286 1.9304927  1.53957052 1.33788438]\n",
      "  [1.07480088 1.44108708 1.04864452 1.52680375 1.01088271]\n",
      "  [1.42337738 1.96179857 1.76728984 1.37815386 1.21250148]]]\n",
      "[[[ 25.  25.  75.  25.  75.]\n",
      "  [ 75.  25.  75.  75.  75.]\n",
      "  [ 75.  75.  75.  75. 100.]]\n",
      "\n",
      " [[ 25.  25.  75.  25.  25.]\n",
      "  [ 25.  25.  25.  25.   0.]\n",
      "  [ 25.  75.  75.  25.  25.]]]\n"
     ]
    }
   ],
   "source": [
    "# your code here\n",
    "\n",
    "print(d)\n",
    "\n",
    "print(f)"
   ]
  },
  {
   "cell_type": "markdown",
   "metadata": {},
   "source": [
    "#### 18. Bonus question: instead of using numbers (i.e. 0, 25, 50, 75, and 100), use string values  (\"A\", \"B\", \"C\", \"D\", and \"E\") to label the array elements. For the example above, the expected result is:\n",
    "\n",
    "```python\n",
    "[[[ 'D',  'D',  'D',  'B',  'D'],\n",
    "[ 'D',  'D',  'B',  'B',  'B'],\n",
    "[ 'D',  'B',  'D',  'D',  'D']],\n",
    "[[ 'B',  'B',  'B',  'B',  'E'],\n",
    "[ 'D',  'D',  'D',  'D',  'D'],\n",
    "[ 'B',  'D',   'A',  'D', 'D']]]\n",
    "```\n",
    "**Note**: you don't have to use Numpy in this question."
   ]
  },
  {
   "cell_type": "code",
   "execution_count": 38,
   "metadata": {},
   "outputs": [],
   "source": [
    "# your code here\n",
    "\n",
    "new_array=np.empty((2,3,5))"
   ]
  },
  {
   "cell_type": "code",
   "execution_count": 39,
   "metadata": {},
   "outputs": [],
   "source": [
    "new_array=new_array.astype(str)"
   ]
  },
  {
   "cell_type": "code",
   "execution_count": 40,
   "metadata": {},
   "outputs": [],
   "source": [
    "for x in range(len(d)):\n",
    "    for y in range(len(d[x])):\n",
    "        for z in range(len(d[x,y])):\n",
    "            \n",
    "            item=d[x,y,z]\n",
    "            \n",
    "            if item > d_min and item < d_mean:\n",
    "                new_array[x,y,z] = \"B\"\n",
    "                \n",
    "            elif item > d_mean and item < d_max:\n",
    "                new_array[x,y,z] = \"D\"\n",
    "                \n",
    "            elif item == d_mean:\n",
    "                new_array[x,y,z] = \"C\"\n",
    "                \n",
    "            elif item == d_min:\n",
    "                new_array[x,y,z] = \"A\"\n",
    "                \n",
    "            else:\n",
    "                new_array[x,y,z] = \"E\"\n",
    "                \n",
    "    "
   ]
  },
  {
   "cell_type": "code",
   "execution_count": 41,
   "metadata": {},
   "outputs": [
    {
     "name": "stdout",
     "output_type": "stream",
     "text": [
      "[[['B' 'B' 'D' 'B' 'D']\n",
      "  ['D' 'B' 'D' 'D' 'D']\n",
      "  ['D' 'D' 'D' 'D' 'E']]\n",
      "\n",
      " [['B' 'B' 'D' 'B' 'B']\n",
      "  ['B' 'B' 'B' 'B' 'A']\n",
      "  ['B' 'D' 'D' 'B' 'B']]]\n"
     ]
    }
   ],
   "source": [
    "print(new_array)"
   ]
  },
  {
   "cell_type": "code",
   "execution_count": null,
   "metadata": {},
   "outputs": [],
   "source": []
  },
  {
   "cell_type": "code",
   "execution_count": null,
   "metadata": {},
   "outputs": [],
   "source": []
  }
 ],
 "metadata": {
  "kernelspec": {
   "display_name": "Python 3",
   "language": "python",
   "name": "python3"
  },
  "language_info": {
   "codemirror_mode": {
    "name": "ipython",
    "version": 3
   },
   "file_extension": ".py",
   "mimetype": "text/x-python",
   "name": "python",
   "nbconvert_exporter": "python",
   "pygments_lexer": "ipython3",
   "version": "3.8.5"
  }
 },
 "nbformat": 4,
 "nbformat_minor": 2
}
