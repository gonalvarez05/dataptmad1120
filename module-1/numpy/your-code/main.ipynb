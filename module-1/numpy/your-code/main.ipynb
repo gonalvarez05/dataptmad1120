{
 "cells": [
  {
   "cell_type": "markdown",
   "metadata": {},
   "source": [
    "# Introduction to NumPy\n",
    "\n",
    "\n",
    "#### 1. Import NumPy under the name np."
   ]
  },
  {
   "cell_type": "code",
   "execution_count": 2,
   "metadata": {},
   "outputs": [],
   "source": [
    "# your code here\n",
    "\n",
    "import numpy as np"
   ]
  },
  {
   "cell_type": "markdown",
   "metadata": {},
   "source": [
    "#### 2. Print your NumPy version."
   ]
  },
  {
   "cell_type": "code",
   "execution_count": 3,
   "metadata": {},
   "outputs": [
    {
     "name": "stdout",
     "output_type": "stream",
     "text": [
      "1.19.2\n"
     ]
    }
   ],
   "source": [
    "# your code here\n",
    "print(np.__version__)"
   ]
  },
  {
   "cell_type": "markdown",
   "metadata": {},
   "source": [
    "#### 3. Generate a 2x3x5 3-dimensional array with random values. Assign the array to variable *a*.\n",
    "**Challenge**: there are at least three easy ways that use numpy to generate random arrays. How many ways can you find?"
   ]
  },
  {
   "cell_type": "code",
   "execution_count": 44,
   "metadata": {},
   "outputs": [
    {
     "data": {
      "text/plain": [
       "array([[[0.58152525, 0.84448169, 0.98383114, 0.69865604, 0.5701498 ],\n",
       "        [0.35138157, 0.07668069, 0.81605603, 0.51388596, 0.51122197],\n",
       "        [0.89861376, 0.58176185, 0.78236373, 0.47950455, 0.93672157]],\n",
       "\n",
       "       [[0.53820747, 0.61969395, 0.52522073, 0.43220396, 0.19763761],\n",
       "        [0.37780685, 0.7695845 , 0.9793585 , 0.82167904, 0.18136768],\n",
       "        [0.51990843, 0.48055289, 0.57973811, 0.22246033, 0.88922822]]])"
      ]
     },
     "execution_count": 44,
     "metadata": {},
     "output_type": "execute_result"
    }
   ],
   "source": [
    "# Method 1\n",
    "a=np.random.random((2,3,5))\n",
    "a\n"
   ]
  },
  {
   "cell_type": "code",
   "execution_count": 5,
   "metadata": {},
   "outputs": [
    {
     "data": {
      "text/plain": [
       "array([[[99, 80,  0,  4, 67],\n",
       "        [82, 31, 60, 81, 51],\n",
       "        [68, 68, 25,  5, 55]],\n",
       "\n",
       "       [[46, 60, 28, 91, 21],\n",
       "        [34, 32, 11, 29, 61],\n",
       "        [ 8, 73, 55, 88, 40]]])"
      ]
     },
     "execution_count": 5,
     "metadata": {},
     "output_type": "execute_result"
    }
   ],
   "source": [
    "# Method 2\n",
    "np.random.randint(low=0, high=100, size=(2,3,5))"
   ]
  },
  {
   "cell_type": "code",
   "execution_count": 6,
   "metadata": {},
   "outputs": [
    {
     "data": {
      "text/plain": [
       "array([[[0.37301093, 0.20883757, 0.07429112, 0.62181358, 0.36385024],\n",
       "        [0.27730325, 0.08375929, 0.93562343, 0.60536598, 0.20926292],\n",
       "        [0.52099613, 0.80044255, 0.24289841, 0.43867631, 0.09480452]],\n",
       "\n",
       "       [[0.92521078, 0.94598887, 0.43041325, 0.67077806, 0.79645768],\n",
       "        [0.08123913, 0.08218538, 0.57976254, 0.62201007, 0.74097989],\n",
       "        [0.83545321, 0.57048723, 0.34249544, 0.16717294, 0.32660396]]])"
      ]
     },
     "execution_count": 6,
     "metadata": {},
     "output_type": "execute_result"
    }
   ],
   "source": [
    "# Method 3\n",
    "\n",
    "np.random.rand(2,3,5)"
   ]
  },
  {
   "cell_type": "markdown",
   "metadata": {},
   "source": [
    "#### 4. Print *a*.\n"
   ]
  },
  {
   "cell_type": "code",
   "execution_count": 7,
   "metadata": {},
   "outputs": [
    {
     "name": "stdout",
     "output_type": "stream",
     "text": [
      "[[[0.97788054 0.94805617 0.33152531 0.21834442 0.04019685]\n",
      "  [0.42457569 0.47619823 0.77143361 0.98485922 0.6673225 ]\n",
      "  [0.784668   0.681344   0.99529976 0.90675089 0.65696789]]\n",
      "\n",
      " [[0.35957282 0.88365856 0.00158555 0.9169658  0.18842254]\n",
      "  [0.2598741  0.51357953 0.87084428 0.84408233 0.33934235]\n",
      "  [0.42106572 0.09736497 0.7345203  0.33052253 0.38100013]]]\n"
     ]
    }
   ],
   "source": [
    "# your code here\n",
    "\n",
    "print(a)"
   ]
  },
  {
   "cell_type": "markdown",
   "metadata": {},
   "source": [
    "#### 5. Create a 5x2x3 3-dimensional array with all values equaling 1. Assign the array to variable *b*."
   ]
  },
  {
   "cell_type": "code",
   "execution_count": 8,
   "metadata": {},
   "outputs": [],
   "source": [
    "# your code here\n",
    "b=np.ones((5,2,3))"
   ]
  },
  {
   "cell_type": "markdown",
   "metadata": {},
   "source": [
    "#### 6. Print *b*.\n"
   ]
  },
  {
   "cell_type": "code",
   "execution_count": 9,
   "metadata": {},
   "outputs": [
    {
     "name": "stdout",
     "output_type": "stream",
     "text": [
      "[[[1. 1. 1.]\n",
      "  [1. 1. 1.]]\n",
      "\n",
      " [[1. 1. 1.]\n",
      "  [1. 1. 1.]]\n",
      "\n",
      " [[1. 1. 1.]\n",
      "  [1. 1. 1.]]\n",
      "\n",
      " [[1. 1. 1.]\n",
      "  [1. 1. 1.]]\n",
      "\n",
      " [[1. 1. 1.]\n",
      "  [1. 1. 1.]]]\n"
     ]
    }
   ],
   "source": [
    "# your code here\n",
    "print(b)"
   ]
  },
  {
   "cell_type": "markdown",
   "metadata": {},
   "source": [
    "#### 7. Do *a* and *b* have the same size? How do you prove that in Python code?"
   ]
  },
  {
   "cell_type": "code",
   "execution_count": 10,
   "metadata": {},
   "outputs": [
    {
     "data": {
      "text/plain": [
       "True"
      ]
     },
     "execution_count": 10,
     "metadata": {},
     "output_type": "execute_result"
    }
   ],
   "source": [
    "# your code here\n",
    "\n",
    "a.size==b.size"
   ]
  },
  {
   "cell_type": "markdown",
   "metadata": {},
   "source": [
    "#### 8. Are you able to add *a* and *b*? Why or why not?\n"
   ]
  },
  {
   "cell_type": "code",
   "execution_count": 11,
   "metadata": {},
   "outputs": [
    {
     "ename": "ValueError",
     "evalue": "operands could not be broadcast together with shapes (2,3,5) (5,2,3) ",
     "output_type": "error",
     "traceback": [
      "\u001b[0;31m---------------------------------------------------------------------------\u001b[0m",
      "\u001b[0;31mValueError\u001b[0m                                Traceback (most recent call last)",
      "\u001b[0;32m<ipython-input-11-26bd7aa07f66>\u001b[0m in \u001b[0;36m<module>\u001b[0;34m\u001b[0m\n\u001b[1;32m      1\u001b[0m \u001b[0;31m# your answer here\u001b[0m\u001b[0;34m\u001b[0m\u001b[0;34m\u001b[0m\u001b[0;34m\u001b[0m\u001b[0m\n\u001b[1;32m      2\u001b[0m \u001b[0;34m\u001b[0m\u001b[0m\n\u001b[0;32m----> 3\u001b[0;31m \u001b[0ma\u001b[0m\u001b[0;34m+\u001b[0m\u001b[0mb\u001b[0m\u001b[0;34m\u001b[0m\u001b[0;34m\u001b[0m\u001b[0m\n\u001b[0m\u001b[1;32m      4\u001b[0m \u001b[0;34m\u001b[0m\u001b[0m\n\u001b[1;32m      5\u001b[0m \u001b[0;31m#We can´t add a to b because they don´t have the same shape. a=(2,3,5) and b=(5,2,3)\u001b[0m\u001b[0;34m\u001b[0m\u001b[0;34m\u001b[0m\u001b[0;34m\u001b[0m\u001b[0m\n",
      "\u001b[0;31mValueError\u001b[0m: operands could not be broadcast together with shapes (2,3,5) (5,2,3) "
     ]
    }
   ],
   "source": [
    "# your answer here\n",
    "\n",
    "a+b\n",
    "\n",
    "#We can´t add a to b because they don´t have the same shape. a=(2,3,5) and b=(5,2,3)"
   ]
  },
  {
   "cell_type": "markdown",
   "metadata": {},
   "source": [
    "#### 9. Transpose *b* so that it has the same structure of *a* (i.e. become a 2x3x5 array). Assign the transposed array to variable *c*."
   ]
  },
  {
   "cell_type": "code",
   "execution_count": 41,
   "metadata": {},
   "outputs": [
    {
     "name": "stdout",
     "output_type": "stream",
     "text": [
      "[[[1. 1. 1. 1. 1.]\n",
      "  [1. 1. 1. 1. 1.]\n",
      "  [1. 1. 1. 1. 1.]]\n",
      "\n",
      " [[1. 1. 1. 1. 1.]\n",
      "  [1. 1. 1. 1. 1.]\n",
      "  [1. 1. 1. 1. 1.]]]\n"
     ]
    }
   ],
   "source": [
    "# your code here\n",
    "\n",
    "c=b.transpose(1,2,0)\n",
    "print(c)"
   ]
  },
  {
   "cell_type": "markdown",
   "metadata": {},
   "source": [
    "#### 10. Try to add *a* and *c*. Now it should work. Assign the sum to variable *d*. But why does it work now?"
   ]
  },
  {
   "cell_type": "code",
   "execution_count": 42,
   "metadata": {},
   "outputs": [
    {
     "data": {
      "text/plain": [
       "array([[[1.97788054, 1.94805617, 1.33152531, 1.21834442, 1.04019685],\n",
       "        [1.42457569, 1.47619823, 1.77143361, 1.98485922, 1.6673225 ],\n",
       "        [1.784668  , 1.681344  , 1.99529976, 1.90675089, 1.65696789]],\n",
       "\n",
       "       [[1.35957282, 1.88365856, 1.00158555, 1.9169658 , 1.18842254],\n",
       "        [1.2598741 , 1.51357953, 1.87084428, 1.84408233, 1.33934235],\n",
       "        [1.42106572, 1.09736497, 1.7345203 , 1.33052253, 1.38100013]]])"
      ]
     },
     "execution_count": 42,
     "metadata": {},
     "output_type": "execute_result"
    }
   ],
   "source": [
    "# your code/answer here\n",
    "\n",
    "d=a+c\n",
    "d\n",
    "\n",
    "#It works because both arrays have the same shape."
   ]
  },
  {
   "cell_type": "markdown",
   "metadata": {},
   "source": [
    "#### 11. Print *a* and *d*. Notice the difference and relation of the two array in terms of the values? Explain."
   ]
  },
  {
   "cell_type": "code",
   "execution_count": 14,
   "metadata": {},
   "outputs": [
    {
     "name": "stdout",
     "output_type": "stream",
     "text": [
      "[[[0.97788054 0.94805617 0.33152531 0.21834442 0.04019685]\n",
      "  [0.42457569 0.47619823 0.77143361 0.98485922 0.6673225 ]\n",
      "  [0.784668   0.681344   0.99529976 0.90675089 0.65696789]]\n",
      "\n",
      " [[0.35957282 0.88365856 0.00158555 0.9169658  0.18842254]\n",
      "  [0.2598741  0.51357953 0.87084428 0.84408233 0.33934235]\n",
      "  [0.42106572 0.09736497 0.7345203  0.33052253 0.38100013]]]\n",
      "[[[1.97788054 1.94805617 1.33152531 1.21834442 1.04019685]\n",
      "  [1.42457569 1.47619823 1.77143361 1.98485922 1.6673225 ]\n",
      "  [1.784668   1.681344   1.99529976 1.90675089 1.65696789]]\n",
      "\n",
      " [[1.35957282 1.88365856 1.00158555 1.9169658  1.18842254]\n",
      "  [1.2598741  1.51357953 1.87084428 1.84408233 1.33934235]\n",
      "  [1.42106572 1.09736497 1.7345203  1.33052253 1.38100013]]]\n"
     ]
    }
   ],
   "source": [
    "# your code/answer here\n",
    "print(a)\n",
    "\n",
    "\n",
    "print(d)\n"
   ]
  },
  {
   "cell_type": "markdown",
   "metadata": {},
   "source": [
    "#### 12. Multiply *a* and *c*. Assign the result to *e*."
   ]
  },
  {
   "cell_type": "code",
   "execution_count": 15,
   "metadata": {},
   "outputs": [
    {
     "name": "stdout",
     "output_type": "stream",
     "text": [
      "[[[0.97788054 0.94805617 0.33152531 0.21834442 0.04019685]\n",
      "  [0.42457569 0.47619823 0.77143361 0.98485922 0.6673225 ]\n",
      "  [0.784668   0.681344   0.99529976 0.90675089 0.65696789]]\n",
      "\n",
      " [[0.35957282 0.88365856 0.00158555 0.9169658  0.18842254]\n",
      "  [0.2598741  0.51357953 0.87084428 0.84408233 0.33934235]\n",
      "  [0.42106572 0.09736497 0.7345203  0.33052253 0.38100013]]]\n"
     ]
    }
   ],
   "source": [
    "# your code here\n",
    "e=a*c\n",
    "print(e)"
   ]
  },
  {
   "cell_type": "markdown",
   "metadata": {},
   "source": [
    "#### 13. Does *e* equal to *a*? Why or why not?\n"
   ]
  },
  {
   "cell_type": "code",
   "execution_count": 16,
   "metadata": {},
   "outputs": [
    {
     "data": {
      "text/plain": [
       "array([[[ True,  True,  True,  True,  True],\n",
       "        [ True,  True,  True,  True,  True],\n",
       "        [ True,  True,  True,  True,  True]],\n",
       "\n",
       "       [[ True,  True,  True,  True,  True],\n",
       "        [ True,  True,  True,  True,  True],\n",
       "        [ True,  True,  True,  True,  True]]])"
      ]
     },
     "execution_count": 16,
     "metadata": {},
     "output_type": "execute_result"
    }
   ],
   "source": [
    "# your code/answer here\n",
    "\n",
    "a==e\n",
    "\n",
    "#Yes, it´s equal beacause array c is the traspose of ones array.\n"
   ]
  },
  {
   "cell_type": "markdown",
   "metadata": {},
   "source": [
    "#### 14. Identify the max, min, and mean values in *d*. Assign those values to variables *d_max*, *d_min* and *d_mean*."
   ]
  },
  {
   "cell_type": "code",
   "execution_count": 17,
   "metadata": {},
   "outputs": [
    {
     "name": "stdout",
     "output_type": "stream",
     "text": [
      "1.9952997588067882\n",
      "1.0015855481499765\n",
      "1.5669274863406706\n"
     ]
    }
   ],
   "source": [
    "# your code here\n",
    "\n",
    "d_max=np.max(d)\n",
    "print(d_max)\n",
    "\n",
    "d_min=np.min(d)\n",
    "print(d_min)\n",
    "\n",
    "d_mean=np.mean(d)\n",
    "print(d_mean)\n"
   ]
  },
  {
   "cell_type": "markdown",
   "metadata": {},
   "source": [
    "#### 15. Now we want to label the values in *d*. First create an empty array *f* with the same shape (i.e. 2x3x5) as *d* using `np.empty`.\n"
   ]
  },
  {
   "cell_type": "code",
   "execution_count": 23,
   "metadata": {},
   "outputs": [
    {
     "data": {
      "text/plain": [
       "array([[[0.97788054, 0.94805617, 0.33152531, 0.21834442, 0.04019685],\n",
       "        [0.42457569, 0.47619823, 0.77143361, 0.98485922, 0.6673225 ],\n",
       "        [0.784668  , 0.681344  , 0.99529976, 0.90675089, 0.65696789]],\n",
       "\n",
       "       [[0.35957282, 0.88365856, 0.00158555, 0.9169658 , 0.18842254],\n",
       "        [0.2598741 , 0.51357953, 0.87084428, 0.84408233, 0.33934235],\n",
       "        [0.42106572, 0.09736497, 0.7345203 , 0.33052253, 0.38100013]]])"
      ]
     },
     "execution_count": 23,
     "metadata": {},
     "output_type": "execute_result"
    }
   ],
   "source": [
    "# your code here\n",
    "\n",
    "f=np.empty([2,3,5])\n",
    "\n",
    "f"
   ]
  },
  {
   "cell_type": "markdown",
   "metadata": {},
   "source": [
    "#### 16. Populate the values in *f*. \n",
    "\n",
    "For each value in *d*, if it's larger than *d_min* but smaller than *d_mean*, assign 25 to the corresponding value in *f*. If a value in *d* is larger than *d_mean* but smaller than *d_max*, assign 75 to the corresponding value in *f*. If a value equals to *d_mean*, assign 50 to the corresponding value in *f*. Assign 0 to the corresponding value(s) in *f* for *d_min* in *d*. Assign 100 to the corresponding value(s) in *f* for *d_max* in *d*. In the end, f should have only the following values: 0, 25, 50, 75, and 100.\n",
    "\n",
    "**Note**: you don't have to use Numpy in this question."
   ]
  },
  {
   "cell_type": "code",
   "execution_count": 24,
   "metadata": {},
   "outputs": [
    {
     "name": "stdout",
     "output_type": "stream",
     "text": [
      "[[[1.97788054 1.94805617 1.33152531 1.21834442 1.04019685]\n",
      "  [1.42457569 1.47619823 1.77143361 1.98485922 1.6673225 ]\n",
      "  [1.784668   1.681344   1.99529976 1.90675089 1.65696789]]\n",
      "\n",
      " [[1.35957282 1.88365856 1.00158555 1.9169658  1.18842254]\n",
      "  [1.2598741  1.51357953 1.87084428 1.84408233 1.33934235]\n",
      "  [1.42106572 1.09736497 1.7345203  1.33052253 1.38100013]]]\n"
     ]
    }
   ],
   "source": [
    "print(d)"
   ]
  },
  {
   "cell_type": "code",
   "execution_count": 48,
   "metadata": {},
   "outputs": [],
   "source": [
    "# your code here\n",
    "\n",
    "for x in range(len(d)):\n",
    "    for y in range(len(d[x])):\n",
    "        for z in range(len(d[x,y])):\n",
    "            \n",
    "            item=d[x,y,z]\n",
    "            \n",
    "            if item > d_min and item < d_mean:\n",
    "                f[x,y,z] = 25\n",
    "                \n",
    "            elif item > d_mean and item < d_max:\n",
    "                f[x,y,z] = 75\n",
    "                \n",
    "            elif item == d_mean:\n",
    "                f[x,y,z] = 50\n",
    "                \n",
    "            elif item == d_min:\n",
    "                f[x,y,z] = 0\n",
    "                \n",
    "            else:\n",
    "                f[x,y,z] = 100\n",
    "\n",
    "            \n",
    "            \n",
    "            \n",
    "\n",
    "\n",
    "\n"
   ]
  },
  {
   "cell_type": "markdown",
   "metadata": {},
   "source": [
    "#### 17. Print *d* and *f*. Do you have your expected *f*?\n",
    "For instance, if your *d* is:\n",
    "```python\n",
    "[[[1.85836099, 1.67064465, 1.62576044, 1.40243961, 1.88454931],\n",
    "[1.75354326, 1.69403643, 1.36729252, 1.61415071, 1.12104981],\n",
    "[1.72201435, 1.1862918 , 1.87078449, 1.7726778 , 1.88180042]],\n",
    "[[1.44747908, 1.31673383, 1.02000951, 1.52218947, 1.97066381],\n",
    "[1.79129243, 1.74983003, 1.96028037, 1.85166831, 1.65450881],\n",
    "[1.18068344, 1.9587381 , 1.00656599, 1.93402165, 1.73514584]]]\n",
    "```\n",
    "Your *f* should be:\n",
    "```python\n",
    "[[[ 75.,  75.,  75.,  25.,  75.],\n",
    "[ 75.,  75.,  25.,  25.,  25.],\n",
    "[ 75.,  25.,  75.,  75.,  75.]],\n",
    "[[ 25.,  25.,  25.,  25., 100.],\n",
    "[ 75.,  75.,  75.,  75.,  75.],\n",
    "[ 25.,  75.,   0.,  75.,  75.]]]\n",
    "```"
   ]
  },
  {
   "cell_type": "code",
   "execution_count": 49,
   "metadata": {},
   "outputs": [
    {
     "name": "stdout",
     "output_type": "stream",
     "text": [
      "[[[1.97788054 1.94805617 1.33152531 1.21834442 1.04019685]\n",
      "  [1.42457569 1.47619823 1.77143361 1.98485922 1.6673225 ]\n",
      "  [1.784668   1.681344   1.99529976 1.90675089 1.65696789]]\n",
      "\n",
      " [[1.35957282 1.88365856 1.00158555 1.9169658  1.18842254]\n",
      "  [1.2598741  1.51357953 1.87084428 1.84408233 1.33934235]\n",
      "  [1.42106572 1.09736497 1.7345203  1.33052253 1.38100013]]]\n",
      "[[[ 75.  75.  25.  25.  25.]\n",
      "  [ 25.  25.  75.  75.  75.]\n",
      "  [ 75.  75. 100.  75.  75.]]\n",
      "\n",
      " [[ 25.  75.   0.  75.  25.]\n",
      "  [ 25.  25.  75.  75.  25.]\n",
      "  [ 25.  25.  75.  25.  25.]]]\n"
     ]
    }
   ],
   "source": [
    "# your code here\n",
    "\n",
    "print(d)\n",
    "\n",
    "print(f)"
   ]
  },
  {
   "cell_type": "markdown",
   "metadata": {},
   "source": [
    "#### 18. Bonus question: instead of using numbers (i.e. 0, 25, 50, 75, and 100), use string values  (\"A\", \"B\", \"C\", \"D\", and \"E\") to label the array elements. For the example above, the expected result is:\n",
    "\n",
    "```python\n",
    "[[[ 'D',  'D',  'D',  'B',  'D'],\n",
    "[ 'D',  'D',  'B',  'B',  'B'],\n",
    "[ 'D',  'B',  'D',  'D',  'D']],\n",
    "[[ 'B',  'B',  'B',  'B',  'E'],\n",
    "[ 'D',  'D',  'D',  'D',  'D'],\n",
    "[ 'B',  'D',   'A',  'D', 'D']]]\n",
    "```\n",
    "**Note**: you don't have to use Numpy in this question."
   ]
  },
  {
   "cell_type": "code",
   "execution_count": 73,
   "metadata": {},
   "outputs": [],
   "source": [
    "# your code here\n",
    "\n",
    "new_array=np.empty((2,3,5))"
   ]
  },
  {
   "cell_type": "code",
   "execution_count": 74,
   "metadata": {},
   "outputs": [],
   "source": [
    "new_array=new_array.astype(str)"
   ]
  },
  {
   "cell_type": "code",
   "execution_count": 75,
   "metadata": {},
   "outputs": [],
   "source": [
    "for x in range(len(d)):\n",
    "    for y in range(len(d[x])):\n",
    "        for z in range(len(d[x,y])):\n",
    "            \n",
    "            item=d[x,y,z]\n",
    "            \n",
    "            if item > d_min and item < d_mean:\n",
    "                new_array[x,y,z] = \"A\"\n",
    "                \n",
    "            elif item > d_mean and item < d_max:\n",
    "                new_array[x,y,z] = \"B\"\n",
    "                \n",
    "            elif item == d_mean:\n",
    "                new_array[x,y,z] = \"C\"\n",
    "                \n",
    "            elif item == d_min:\n",
    "                new_array[x,y,z] = \"D\"\n",
    "                \n",
    "            else:\n",
    "                new_array[x,y,z] = \"E\"\n",
    "                \n",
    "    "
   ]
  },
  {
   "cell_type": "code",
   "execution_count": 76,
   "metadata": {},
   "outputs": [
    {
     "name": "stdout",
     "output_type": "stream",
     "text": [
      "[[['B' 'B' 'A' 'A' 'A']\n",
      "  ['A' 'A' 'B' 'B' 'B']\n",
      "  ['B' 'B' 'E' 'B' 'B']]\n",
      "\n",
      " [['A' 'B' 'D' 'B' 'A']\n",
      "  ['A' 'A' 'B' 'B' 'A']\n",
      "  ['A' 'A' 'B' 'A' 'A']]]\n"
     ]
    }
   ],
   "source": [
    "print(new_array)"
   ]
  },
  {
   "cell_type": "code",
   "execution_count": null,
   "metadata": {},
   "outputs": [],
   "source": []
  },
  {
   "cell_type": "code",
   "execution_count": null,
   "metadata": {},
   "outputs": [],
   "source": []
  }
 ],
 "metadata": {
  "kernelspec": {
   "display_name": "Python 3",
   "language": "python",
   "name": "python3"
  },
  "language_info": {
   "codemirror_mode": {
    "name": "ipython",
    "version": 3
   },
   "file_extension": ".py",
   "mimetype": "text/x-python",
   "name": "python",
   "nbconvert_exporter": "python",
   "pygments_lexer": "ipython3",
   "version": "3.8.5"
  }
 },
 "nbformat": 4,
 "nbformat_minor": 2
}
