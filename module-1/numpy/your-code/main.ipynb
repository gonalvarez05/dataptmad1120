{
 "cells": [
  {
   "cell_type": "markdown",
   "metadata": {},
   "source": [
    "# Introduction to NumPy\n",
    "\n",
    "\n",
    "#### 1. Import NumPy under the name np."
   ]
  },
  {
   "cell_type": "code",
   "execution_count": 55,
   "metadata": {},
   "outputs": [],
   "source": [
    "# your code here\n",
    "\n",
    "import numpy as np"
   ]
  },
  {
   "cell_type": "markdown",
   "metadata": {},
   "source": [
    "#### 2. Print your NumPy version."
   ]
  },
  {
   "cell_type": "code",
   "execution_count": 56,
   "metadata": {},
   "outputs": [
    {
     "name": "stdout",
     "output_type": "stream",
     "text": [
      "1.19.2\n"
     ]
    }
   ],
   "source": [
    "# your code here\n",
    "print(np.__version__)"
   ]
  },
  {
   "cell_type": "markdown",
   "metadata": {},
   "source": [
    "#### 3. Generate a 2x3x5 3-dimensional array with random values. Assign the array to variable *a*.\n",
    "**Challenge**: there are at least three easy ways that use numpy to generate random arrays. How many ways can you find?"
   ]
  },
  {
   "cell_type": "code",
   "execution_count": 57,
   "metadata": {},
   "outputs": [
    {
     "data": {
      "text/plain": [
       "array([[[0.81660918, 0.61023071, 0.65339731, 0.65812495, 0.0653903 ],\n",
       "        [0.19546221, 0.50017426, 0.69285423, 0.51836206, 0.82735815],\n",
       "        [0.74405533, 0.5293096 , 0.33921497, 0.97736974, 0.7379478 ]],\n",
       "\n",
       "       [[0.07565231, 0.4126074 , 0.3468701 , 0.76467807, 0.53964645],\n",
       "        [0.67042653, 0.98254081, 0.8552793 , 0.15904119, 0.03376663],\n",
       "        [0.95757557, 0.40746195, 0.74881356, 0.48167376, 0.36547518]]])"
      ]
     },
     "execution_count": 57,
     "metadata": {},
     "output_type": "execute_result"
    }
   ],
   "source": [
    "# Method 1\n",
    "a=np.random.random((2,3,5))\n",
    "a"
   ]
  },
  {
   "cell_type": "code",
   "execution_count": 58,
   "metadata": {},
   "outputs": [
    {
     "data": {
      "text/plain": [
       "array([[[99, 33, 48, 87, 11],\n",
       "        [37, 16, 47, 69, 99],\n",
       "        [75, 30, 52, 68, 16]],\n",
       "\n",
       "       [[21, 25, 76, 23, 79],\n",
       "        [78, 28, 55, 32, 21],\n",
       "        [15, 87, 16, 58, 81]]])"
      ]
     },
     "execution_count": 58,
     "metadata": {},
     "output_type": "execute_result"
    }
   ],
   "source": [
    "# Method 2\n",
    "np.random.randint(low=0, high=100, size=(2,3,5))"
   ]
  },
  {
   "cell_type": "code",
   "execution_count": 59,
   "metadata": {},
   "outputs": [
    {
     "data": {
      "text/plain": [
       "array([[[0.2295385 , 0.16859935, 0.61531022, 0.21959538, 0.05885874],\n",
       "        [0.33970089, 0.71343424, 0.34878775, 0.46098373, 0.54188603],\n",
       "        [0.14367937, 0.17520045, 0.68862987, 0.94853271, 0.71443512]],\n",
       "\n",
       "       [[0.0043671 , 0.55774344, 0.71884241, 0.55178455, 0.24148495],\n",
       "        [0.70056942, 0.65883916, 0.93357973, 0.72192461, 0.59584684],\n",
       "        [0.42281919, 0.75060332, 0.86843873, 0.24878216, 0.56208911]]])"
      ]
     },
     "execution_count": 59,
     "metadata": {},
     "output_type": "execute_result"
    }
   ],
   "source": [
    "# Method 3\n",
    "\n",
    "np.random.rand(2,3,5)"
   ]
  },
  {
   "cell_type": "markdown",
   "metadata": {},
   "source": [
    "#### 4. Print *a*.\n"
   ]
  },
  {
   "cell_type": "code",
   "execution_count": 60,
   "metadata": {},
   "outputs": [
    {
     "name": "stdout",
     "output_type": "stream",
     "text": [
      "[[[0.81660918 0.61023071 0.65339731 0.65812495 0.0653903 ]\n",
      "  [0.19546221 0.50017426 0.69285423 0.51836206 0.82735815]\n",
      "  [0.74405533 0.5293096  0.33921497 0.97736974 0.7379478 ]]\n",
      "\n",
      " [[0.07565231 0.4126074  0.3468701  0.76467807 0.53964645]\n",
      "  [0.67042653 0.98254081 0.8552793  0.15904119 0.03376663]\n",
      "  [0.95757557 0.40746195 0.74881356 0.48167376 0.36547518]]]\n"
     ]
    }
   ],
   "source": [
    "# your code here\n",
    "\n",
    "print(a)"
   ]
  },
  {
   "cell_type": "markdown",
   "metadata": {},
   "source": [
    "#### 5. Create a 5x2x3 3-dimensional array with all values equaling 1. Assign the array to variable *b*."
   ]
  },
  {
   "cell_type": "code",
   "execution_count": 61,
   "metadata": {},
   "outputs": [],
   "source": [
    "# your code here\n",
    "b=np.ones((5,2,3))"
   ]
  },
  {
   "cell_type": "markdown",
   "metadata": {},
   "source": [
    "#### 6. Print *b*.\n"
   ]
  },
  {
   "cell_type": "code",
   "execution_count": 62,
   "metadata": {},
   "outputs": [
    {
     "name": "stdout",
     "output_type": "stream",
     "text": [
      "[[[1. 1. 1.]\n",
      "  [1. 1. 1.]]\n",
      "\n",
      " [[1. 1. 1.]\n",
      "  [1. 1. 1.]]\n",
      "\n",
      " [[1. 1. 1.]\n",
      "  [1. 1. 1.]]\n",
      "\n",
      " [[1. 1. 1.]\n",
      "  [1. 1. 1.]]\n",
      "\n",
      " [[1. 1. 1.]\n",
      "  [1. 1. 1.]]]\n"
     ]
    }
   ],
   "source": [
    "# your code here\n",
    "print(b)"
   ]
  },
  {
   "cell_type": "markdown",
   "metadata": {},
   "source": [
    "#### 7. Do *a* and *b* have the same size? How do you prove that in Python code?"
   ]
  },
  {
   "cell_type": "code",
   "execution_count": 63,
   "metadata": {},
   "outputs": [
    {
     "data": {
      "text/plain": [
       "True"
      ]
     },
     "execution_count": 63,
     "metadata": {},
     "output_type": "execute_result"
    }
   ],
   "source": [
    "# your code here\n",
    "\n",
    "a.size==b.size"
   ]
  },
  {
   "cell_type": "markdown",
   "metadata": {},
   "source": [
    "#### 8. Are you able to add *a* and *b*? Why or why not?\n"
   ]
  },
  {
   "cell_type": "code",
   "execution_count": 64,
   "metadata": {},
   "outputs": [
    {
     "ename": "ValueError",
     "evalue": "operands could not be broadcast together with shapes (2,3,5) (5,2,3) ",
     "output_type": "error",
     "traceback": [
      "\u001b[0;31m---------------------------------------------------------------------------\u001b[0m",
      "\u001b[0;31mValueError\u001b[0m                                Traceback (most recent call last)",
      "\u001b[0;32m<ipython-input-64-26bd7aa07f66>\u001b[0m in \u001b[0;36m<module>\u001b[0;34m\u001b[0m\n\u001b[1;32m      1\u001b[0m \u001b[0;31m# your answer here\u001b[0m\u001b[0;34m\u001b[0m\u001b[0;34m\u001b[0m\u001b[0;34m\u001b[0m\u001b[0m\n\u001b[1;32m      2\u001b[0m \u001b[0;34m\u001b[0m\u001b[0m\n\u001b[0;32m----> 3\u001b[0;31m \u001b[0ma\u001b[0m\u001b[0;34m+\u001b[0m\u001b[0mb\u001b[0m\u001b[0;34m\u001b[0m\u001b[0;34m\u001b[0m\u001b[0m\n\u001b[0m\u001b[1;32m      4\u001b[0m \u001b[0;34m\u001b[0m\u001b[0m\n\u001b[1;32m      5\u001b[0m \u001b[0;31m#We can´t add a to b because they don´t have the same shape. a=(2,3,5) and b=(5,2,3)\u001b[0m\u001b[0;34m\u001b[0m\u001b[0;34m\u001b[0m\u001b[0;34m\u001b[0m\u001b[0m\n",
      "\u001b[0;31mValueError\u001b[0m: operands could not be broadcast together with shapes (2,3,5) (5,2,3) "
     ]
    }
   ],
   "source": [
    "# your answer here\n",
    "\n",
    "a+b\n",
    "\n",
    "#We can´t add a to b because they don´t have the same shape. a=(2,3,5) and b=(5,2,3)"
   ]
  },
  {
   "cell_type": "markdown",
   "metadata": {},
   "source": [
    "#### 9. Transpose *b* so that it has the same structure of *a* (i.e. become a 2x3x5 array). Assign the transposed array to variable *c*."
   ]
  },
  {
   "cell_type": "code",
   "execution_count": 65,
   "metadata": {},
   "outputs": [
    {
     "name": "stdout",
     "output_type": "stream",
     "text": [
      "[[[1. 1. 1. 1. 1.]\n",
      "  [1. 1. 1. 1. 1.]\n",
      "  [1. 1. 1. 1. 1.]]\n",
      "\n",
      " [[1. 1. 1. 1. 1.]\n",
      "  [1. 1. 1. 1. 1.]\n",
      "  [1. 1. 1. 1. 1.]]]\n"
     ]
    }
   ],
   "source": [
    "# your code here\n",
    "\n",
    "c=b.transpose(1,2,0)\n",
    "print(c)"
   ]
  },
  {
   "cell_type": "markdown",
   "metadata": {},
   "source": [
    "#### 10. Try to add *a* and *c*. Now it should work. Assign the sum to variable *d*. But why does it work now?"
   ]
  },
  {
   "cell_type": "code",
   "execution_count": 66,
   "metadata": {},
   "outputs": [
    {
     "data": {
      "text/plain": [
       "array([[[1.81660918, 1.61023071, 1.65339731, 1.65812495, 1.0653903 ],\n",
       "        [1.19546221, 1.50017426, 1.69285423, 1.51836206, 1.82735815],\n",
       "        [1.74405533, 1.5293096 , 1.33921497, 1.97736974, 1.7379478 ]],\n",
       "\n",
       "       [[1.07565231, 1.4126074 , 1.3468701 , 1.76467807, 1.53964645],\n",
       "        [1.67042653, 1.98254081, 1.8552793 , 1.15904119, 1.03376663],\n",
       "        [1.95757557, 1.40746195, 1.74881356, 1.48167376, 1.36547518]]])"
      ]
     },
     "execution_count": 66,
     "metadata": {},
     "output_type": "execute_result"
    }
   ],
   "source": [
    "# your code/answer here\n",
    "\n",
    "d=a+c\n",
    "d\n",
    "\n",
    "#It works because both arrays have the same shape."
   ]
  },
  {
   "cell_type": "markdown",
   "metadata": {},
   "source": [
    "#### 11. Print *a* and *d*. Notice the difference and relation of the two array in terms of the values? Explain."
   ]
  },
  {
   "cell_type": "code",
   "execution_count": 67,
   "metadata": {},
   "outputs": [
    {
     "name": "stdout",
     "output_type": "stream",
     "text": [
      "[[[0.81660918 0.61023071 0.65339731 0.65812495 0.0653903 ]\n",
      "  [0.19546221 0.50017426 0.69285423 0.51836206 0.82735815]\n",
      "  [0.74405533 0.5293096  0.33921497 0.97736974 0.7379478 ]]\n",
      "\n",
      " [[0.07565231 0.4126074  0.3468701  0.76467807 0.53964645]\n",
      "  [0.67042653 0.98254081 0.8552793  0.15904119 0.03376663]\n",
      "  [0.95757557 0.40746195 0.74881356 0.48167376 0.36547518]]]\n",
      "[[[1.81660918 1.61023071 1.65339731 1.65812495 1.0653903 ]\n",
      "  [1.19546221 1.50017426 1.69285423 1.51836206 1.82735815]\n",
      "  [1.74405533 1.5293096  1.33921497 1.97736974 1.7379478 ]]\n",
      "\n",
      " [[1.07565231 1.4126074  1.3468701  1.76467807 1.53964645]\n",
      "  [1.67042653 1.98254081 1.8552793  1.15904119 1.03376663]\n",
      "  [1.95757557 1.40746195 1.74881356 1.48167376 1.36547518]]]\n"
     ]
    }
   ],
   "source": [
    "# your code/answer here\n",
    "print(a)\n",
    "\n",
    "\n",
    "print(d)\n"
   ]
  },
  {
   "cell_type": "markdown",
   "metadata": {},
   "source": [
    "#### 12. Multiply *a* and *c*. Assign the result to *e*."
   ]
  },
  {
   "cell_type": "code",
   "execution_count": 70,
   "metadata": {},
   "outputs": [
    {
     "name": "stdout",
     "output_type": "stream",
     "text": [
      "[[[0.81660918 0.61023071 0.65339731 0.65812495 0.0653903 ]\n",
      "  [0.19546221 0.50017426 0.69285423 0.51836206 0.82735815]\n",
      "  [0.74405533 0.5293096  0.33921497 0.97736974 0.7379478 ]]\n",
      "\n",
      " [[0.07565231 0.4126074  0.3468701  0.76467807 0.53964645]\n",
      "  [0.67042653 0.98254081 0.8552793  0.15904119 0.03376663]\n",
      "  [0.95757557 0.40746195 0.74881356 0.48167376 0.36547518]]]\n"
     ]
    }
   ],
   "source": [
    "# your code here\n",
    "e=a*c\n",
    "print(e)"
   ]
  },
  {
   "cell_type": "markdown",
   "metadata": {},
   "source": [
    "#### 13. Does *e* equal to *a*? Why or why not?\n"
   ]
  },
  {
   "cell_type": "code",
   "execution_count": null,
   "metadata": {},
   "outputs": [],
   "source": [
    "# your code/answer here\n",
    "\n",
    "#Yes, it´s equal beacause array c is the traspose of ones array.\n"
   ]
  },
  {
   "cell_type": "markdown",
   "metadata": {},
   "source": [
    "#### 14. Identify the max, min, and mean values in *d*. Assign those values to variables *d_max*, *d_min* and *d_mean*."
   ]
  },
  {
   "cell_type": "code",
   "execution_count": 71,
   "metadata": {},
   "outputs": [
    {
     "name": "stdout",
     "output_type": "stream",
     "text": [
      "1.9825408136822067\n",
      "1.0337666294111496\n",
      "1.555578986712266\n"
     ]
    }
   ],
   "source": [
    "# your code here\n",
    "\n",
    "d_max=np.max(d)\n",
    "print(d_max)\n",
    "\n",
    "d_min=np.min(d)\n",
    "print(d_min)\n",
    "\n",
    "d_mean=np.mean(d)\n",
    "print(d_mean)\n"
   ]
  },
  {
   "cell_type": "markdown",
   "metadata": {},
   "source": [
    "#### 15. Now we want to label the values in *d*. First create an empty array *f* with the same shape (i.e. 2x3x5) as *d* using `np.empty`.\n"
   ]
  },
  {
   "cell_type": "code",
   "execution_count": 73,
   "metadata": {},
   "outputs": [
    {
     "data": {
      "text/plain": [
       "array([[[0.81660918, 0.61023071, 0.65339731, 0.65812495, 0.0653903 ],\n",
       "        [0.19546221, 0.50017426, 0.69285423, 0.51836206, 0.82735815],\n",
       "        [0.74405533, 0.5293096 , 0.33921497, 0.97736974, 0.7379478 ]],\n",
       "\n",
       "       [[0.07565231, 0.4126074 , 0.3468701 , 0.76467807, 0.53964645],\n",
       "        [0.67042653, 0.98254081, 0.8552793 , 0.15904119, 0.03376663],\n",
       "        [0.95757557, 0.40746195, 0.74881356, 0.48167376, 0.36547518]]])"
      ]
     },
     "execution_count": 73,
     "metadata": {},
     "output_type": "execute_result"
    }
   ],
   "source": [
    "# your code here\n",
    "\n",
    "new_array=np.empty([2,3,5])\n",
    "\n",
    "new_array"
   ]
  },
  {
   "cell_type": "markdown",
   "metadata": {},
   "source": [
    "#### 16. Populate the values in *f*. \n",
    "\n",
    "For each value in *d*, if it's larger than *d_min* but smaller than *d_mean*, assign 25 to the corresponding value in *f*. If a value in *d* is larger than *d_mean* but smaller than *d_max*, assign 75 to the corresponding value in *f*. If a value equals to *d_mean*, assign 50 to the corresponding value in *f*. Assign 0 to the corresponding value(s) in *f* for *d_min* in *d*. Assign 100 to the corresponding value(s) in *f* for *d_max* in *d*. In the end, f should have only the following values: 0, 25, 50, 75, and 100.\n",
    "\n",
    "**Note**: you don't have to use Numpy in this question."
   ]
  },
  {
   "cell_type": "code",
   "execution_count": null,
   "metadata": {},
   "outputs": [],
   "source": []
  },
  {
   "cell_type": "code",
   "execution_count": 74,
   "metadata": {},
   "outputs": [
    {
     "name": "stdout",
     "output_type": "stream",
     "text": [
      "[[1.81660918 1.61023071 1.65339731 1.65812495 1.0653903 ]\n",
      " [1.19546221 1.50017426 1.69285423 1.51836206 1.82735815]\n",
      " [1.74405533 1.5293096  1.33921497 1.97736974 1.7379478 ]]\n",
      "[[1.07565231 1.4126074  1.3468701  1.76467807 1.53964645]\n",
      " [1.67042653 1.98254081 1.8552793  1.15904119 1.03376663]\n",
      " [1.95757557 1.40746195 1.74881356 1.48167376 1.36547518]]\n"
     ]
    }
   ],
   "source": [
    "# your code here\n",
    "\n",
    "for item in d:\n",
    "    print(item)"
   ]
  },
  {
   "cell_type": "markdown",
   "metadata": {},
   "source": [
    "#### 17. Print *d* and *f*. Do you have your expected *f*?\n",
    "For instance, if your *d* is:\n",
    "```python\n",
    "[[[1.85836099, 1.67064465, 1.62576044, 1.40243961, 1.88454931],\n",
    "[1.75354326, 1.69403643, 1.36729252, 1.61415071, 1.12104981],\n",
    "[1.72201435, 1.1862918 , 1.87078449, 1.7726778 , 1.88180042]],\n",
    "[[1.44747908, 1.31673383, 1.02000951, 1.52218947, 1.97066381],\n",
    "[1.79129243, 1.74983003, 1.96028037, 1.85166831, 1.65450881],\n",
    "[1.18068344, 1.9587381 , 1.00656599, 1.93402165, 1.73514584]]]\n",
    "```\n",
    "Your *f* should be:\n",
    "```python\n",
    "[[[ 75.,  75.,  75.,  25.,  75.],\n",
    "[ 75.,  75.,  25.,  25.,  25.],\n",
    "[ 75.,  25.,  75.,  75.,  75.]],\n",
    "[[ 25.,  25.,  25.,  25., 100.],\n",
    "[ 75.,  75.,  75.,  75.,  75.],\n",
    "[ 25.,  75.,   0.,  75.,  75.]]]\n",
    "```"
   ]
  },
  {
   "cell_type": "code",
   "execution_count": null,
   "metadata": {},
   "outputs": [],
   "source": [
    "# your code here"
   ]
  },
  {
   "cell_type": "markdown",
   "metadata": {},
   "source": [
    "#### 18. Bonus question: instead of using numbers (i.e. 0, 25, 50, 75, and 100), use string values  (\"A\", \"B\", \"C\", \"D\", and \"E\") to label the array elements. For the example above, the expected result is:\n",
    "\n",
    "```python\n",
    "[[[ 'D',  'D',  'D',  'B',  'D'],\n",
    "[ 'D',  'D',  'B',  'B',  'B'],\n",
    "[ 'D',  'B',  'D',  'D',  'D']],\n",
    "[[ 'B',  'B',  'B',  'B',  'E'],\n",
    "[ 'D',  'D',  'D',  'D',  'D'],\n",
    "[ 'B',  'D',   'A',  'D', 'D']]]\n",
    "```\n",
    "**Note**: you don't have to use Numpy in this question."
   ]
  },
  {
   "cell_type": "code",
   "execution_count": null,
   "metadata": {},
   "outputs": [],
   "source": [
    "# your code here"
   ]
  }
 ],
 "metadata": {
  "kernelspec": {
   "display_name": "Python 3",
   "language": "python",
   "name": "python3"
  },
  "language_info": {
   "codemirror_mode": {
    "name": "ipython",
    "version": 3
   },
   "file_extension": ".py",
   "mimetype": "text/x-python",
   "name": "python",
   "nbconvert_exporter": "python",
   "pygments_lexer": "ipython3",
   "version": "3.8.5"
  }
 },
 "nbformat": 4,
 "nbformat_minor": 2
}
