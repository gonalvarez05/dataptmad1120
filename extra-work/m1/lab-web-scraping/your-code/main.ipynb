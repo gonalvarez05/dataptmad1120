{
 "cells": [
  {
   "cell_type": "markdown",
   "metadata": {},
   "source": [
    "# Web Scraping Lab\n",
    "\n",
    "You will find in this notebook some scrapy exercises to practise your scraping skills.\n",
    "\n",
    "**Tips:**\n",
    "\n",
    "- Check the response status code for each request to ensure you have obtained the intended content.\n",
    "- Print the response text in each request to understand the kind of info you are getting and its format.\n",
    "- Check for patterns in the response text to extract the data/info requested in each question.\n",
    "- Visit the urls below and take a look at their source code through Chrome DevTools. You'll need to identify the html tags, special class names, etc used in the html content you are expected to extract.\n",
    "\n",
    "**Resources**:\n",
    "- [Requests library](http://docs.python-requests.org/en/master/#the-user-guide)\n",
    "- [Beautiful Soup Doc](https://www.crummy.com/software/BeautifulSoup/bs4/doc/)\n",
    "- [Urllib](https://docs.python.org/3/library/urllib.html#module-urllib)\n",
    "- [re lib](https://docs.python.org/3/library/re.html)\n",
    "- [lxml lib](https://lxml.de/)\n",
    "- [Scrapy](https://scrapy.org/)\n",
    "- [List of HTTP status codes](https://en.wikipedia.org/wiki/List_of_HTTP_status_codes)\n",
    "- [HTML basics](http://www.simplehtmlguide.com/cheatsheet.php)\n",
    "- [CSS basics](https://www.cssbasics.com/#page_start)"
   ]
  },
  {
   "cell_type": "markdown",
   "metadata": {},
   "source": [
    "#### Below are the libraries and modules you may need. `requests`,  `BeautifulSoup` and `pandas` are already imported for you. If you prefer to use additional libraries feel free to do it."
   ]
  },
  {
   "cell_type": "code",
   "execution_count": 17,
   "metadata": {},
   "outputs": [],
   "source": [
    "import requests\n",
    "from bs4 import BeautifulSoup\n",
    "import pandas as pd\n",
    "import re"
   ]
  },
  {
   "cell_type": "markdown",
   "metadata": {},
   "source": [
    "#### Download, parse (using BeautifulSoup), and print the content from the Trending Developers page from GitHub:"
   ]
  },
  {
   "cell_type": "code",
   "execution_count": 18,
   "metadata": {},
   "outputs": [],
   "source": [
    "# This is the url you will scrape in this exercise\n",
    "url = 'https://github.com/trending/developers'"
   ]
  },
  {
   "cell_type": "code",
   "execution_count": 76,
   "metadata": {},
   "outputs": [
    {
     "data": {
      "text/plain": [
       "['Anthony Sottile (asottile)',\n",
       " 'Michael Lynch (mtlynch)',\n",
       " 'Michał Krassowski (krassowski)',\n",
       " 'Mladen Macanović (stsrki)',\n",
       " 'Arvid Norberg (arvidn)',\n",
       " 'Dries Vints (driesvints)',\n",
       " 'Blake Blackshear (blakeblackshear)',\n",
       " 'Miek Gieben (miekg)',\n",
       " 'Pierre Krieger (tomaka)',\n",
       " 'isaacs (isaacs)',\n",
       " 'Julien Danjou (jd)',\n",
       " 'Wei Wang (onevcat)',\n",
       " 'Henrik Rydgård (hrydgard)',\n",
       " 'Michael Waskom (mwaskom)',\n",
       " 'Stephen Celis (stephencelis)',\n",
       " 'pedrobern (PedroBern)',\n",
       " 'Guillaume Gomez (GuillaumeGomez)',\n",
       " 'Michael Teeuw (MichMich)',\n",
       " 'Kévin Dunglas (dunglas)',\n",
       " 'Filippo Valsorda (FiloSottile)',\n",
       " 'Diamond Lewis (dplewis)',\n",
       " 'Felix Angelov (felangel)',\n",
       " 'van Hauser (vanhauser-thc)',\n",
       " 'snipe (snipe)',\n",
       " 'Himanshu Mishra (OrkoHunter)']"
      ]
     },
     "execution_count": 76,
     "metadata": {},
     "output_type": "execute_result"
    }
   ],
   "source": [
    "# your code here\n",
    "\n",
    "response = requests.get(url)\n",
    "soup = BeautifulSoup(response.text, 'html.parser')\n",
    "\n",
    "names = soup.find_all('h1',{'class': \"h3 lh-condensed\"})\n",
    "names_result= [i.text.replace('\\n', '').strip() for i in names]\n",
    "\n",
    "users= soup.find_all('p', {'class':'f4 text-normal mb-1'})\n",
    "users_result= [i.text.replace('\\n', '').strip() for i in users]\n",
    "\n",
    "new_one=list(zip(names_result, users_result))\n",
    "last= [f'{n[0]} ({n[1]})' for n in new_one]\n",
    "last"
   ]
  },
  {
   "cell_type": "markdown",
   "metadata": {},
   "source": [
    "#### Display the names of the trending developers retrieved in the previous step.\n",
    "\n",
    "Your output should be a Python list of developer names. Each name should not contain any html tag.\n",
    "\n",
    "**Instructions:**\n",
    "\n",
    "1. Find out the html tag and class names used for the developer names. You can achieve this using Chrome DevTools.\n",
    "\n",
    "1. Use BeautifulSoup to extract all the html elements that contain the developer names.\n",
    "\n",
    "1. Use string manipulation techniques to replace whitespaces and linebreaks (i.e. `\\n`) in the *text* of each html element. Use a list to store the clean names.\n",
    "\n",
    "1. Print the list of names.\n",
    "\n",
    "Your output should look like below:\n",
    "\n",
    "```\n",
    "['trimstray (@trimstray)',\n",
    " 'joewalnes (JoeWalnes)',\n",
    " 'charlax (Charles-AxelDein)',\n",
    " 'ForrestKnight (ForrestKnight)',\n",
    " 'revery-ui (revery-ui)',\n",
    " 'alibaba (Alibaba)',\n",
    " 'Microsoft (Microsoft)',\n",
    " 'github (GitHub)',\n",
    " 'facebook (Facebook)',\n",
    " 'boazsegev (Bo)',\n",
    " 'google (Google)',\n",
    " 'cloudfetch',\n",
    " 'sindresorhus (SindreSorhus)',\n",
    " 'tensorflow',\n",
    " 'apache (TheApacheSoftwareFoundation)',\n",
    " 'DevonCrawford (DevonCrawford)',\n",
    " 'ARMmbed (ArmMbed)',\n",
    " 'vuejs (vuejs)',\n",
    " 'fastai (fast.ai)',\n",
    " 'QiShaoXuan (Qi)',\n",
    " 'joelparkerhenderson (JoelParkerHenderson)',\n",
    " 'torvalds (LinusTorvalds)',\n",
    " 'CyC2018',\n",
    " 'komeiji-satori (神楽坂覚々)',\n",
    " 'script-8']\n",
    " ```"
   ]
  },
  {
   "cell_type": "markdown",
   "metadata": {},
   "source": [
    "#### Display the trending Python repositories in GitHub.\n",
    "\n",
    "The steps to solve this problem is similar to the previous one except that you need to find out the repository names instead of developer names."
   ]
  },
  {
   "cell_type": "code",
   "execution_count": 77,
   "metadata": {},
   "outputs": [],
   "source": [
    "# This is the url you will scrape in this exercise\n",
    "url = 'https://github.com/trending/python?since=daily'"
   ]
  },
  {
   "cell_type": "code",
   "execution_count": 85,
   "metadata": {},
   "outputs": [
    {
     "data": {
      "text/plain": [
       "['explosion/spaCy',\n",
       " 'doino-gretchenliev/revolut-stocks',\n",
       " 'TheAlgorithms/Python',\n",
       " 'MathInspector/MathInspector',\n",
       " 'swisskyrepo/PayloadsAllTheThings',\n",
       " 'dupontgu/retro-ipod-spotify-client',\n",
       " 'alibaba/taobao-iphone-device',\n",
       " '3b1b/manim',\n",
       " 'minimaxir/big-list-of-naughty-strings',\n",
       " 'sdushantha/wifi-password',\n",
       " 'tensortrade-org/tensortrade',\n",
       " 'davidbombal/red-python-scripts',\n",
       " 'HashPals/Name-That-Hash',\n",
       " 'tiangolo/fastapi',\n",
       " 'PeterL1n/BackgroundMattingV2',\n",
       " 'yanshengjia/ml-road',\n",
       " 'optas/artemis',\n",
       " 'huggingface/transformers',\n",
       " 'ultrafunkamsterdam/undetected-chromedriver',\n",
       " 'y1ndan/genshin-impact-helper',\n",
       " 'ZHKKKe/MODNet',\n",
       " 'numpy/numpy',\n",
       " 'owid/covid-19-data',\n",
       " 'aws/aws-cli',\n",
       " 'vt-vl-lab/FGVC']"
      ]
     },
     "execution_count": 85,
     "metadata": {},
     "output_type": "execute_result"
    }
   ],
   "source": [
    "# your code here\n",
    "\n",
    "response = requests.get(url)\n",
    "soup = BeautifulSoup(response.text, 'html.parser')\n",
    "\n",
    "find= soup.find_all('h1', {'class': 'h3 lh-condensed'})\n",
    "n_change=[i.text.replace('\\n', '').strip() for i in find]\n",
    "space_change=[re.sub('\\s', '', x) for x in n_change]\n",
    "space_change\n",
    "\n",
    "\n",
    "\n"
   ]
  },
  {
   "cell_type": "markdown",
   "metadata": {},
   "source": [
    "#### Display all the image links from Walt Disney wikipedia page."
   ]
  },
  {
   "cell_type": "code",
   "execution_count": 97,
   "metadata": {},
   "outputs": [],
   "source": [
    "# This is the url you will scrape in this exercise\n",
    "url = 'https://en.wikipedia.org/wiki/Walt_Disney'"
   ]
  },
  {
   "cell_type": "code",
   "execution_count": 103,
   "metadata": {},
   "outputs": [
    {
     "data": {
      "text/plain": [
       "['/wiki/File:Walt_Disney_1946.JPG',\n",
       " '/wiki/File:Walt_Disney_1942_signature.svg',\n",
       " '/wiki/File:Walt_Disney_envelope_ca._1921.jpg',\n",
       " '/wiki/File:Trolley_Troubles_poster.jpg',\n",
       " '/wiki/File:Walt_Disney_and_his_cartoon_creation_%22Mickey_Mouse%22_-_National_Board_of_Review_Magazine.jpg',\n",
       " '/wiki/File:Steamboat-willie.jpg',\n",
       " '/wiki/File:Walt_Disney_1935.jpg',\n",
       " '/wiki/File:Walt_Disney_Snow_white_1937_trailer_screenshot_(13).jpg',\n",
       " '/wiki/File:Disney_drawing_goofy.jpg',\n",
       " '/wiki/File:DisneySchiphol1951.jpg',\n",
       " '/wiki/File:WaltDisneyplansDisneylandDec1954.jpg',\n",
       " '/wiki/File:Walt_disney_portrait_right.jpg',\n",
       " '/wiki/File:Walt_Disney_Grave.JPG',\n",
       " '/wiki/File:Roy_O._Disney_with_Company_at_Press_Conference.jpg',\n",
       " '/wiki/File:Disney_Display_Case.JPG',\n",
       " '/wiki/File:Disney1968.jpg',\n",
       " '/wiki/File:Animation_disc.svg',\n",
       " '/wiki/File:P_vip.svg',\n",
       " '/wiki/File:Magic_Kingdom_castle.jpg',\n",
       " '/wiki/File:Video-x-generic.svg',\n",
       " '/wiki/File:Flag_of_Los_Angeles_County,_California.svg',\n",
       " '/wiki/File:Blank_television_set.svg',\n",
       " '/wiki/File:Flag_of_the_United_States.svg']"
      ]
     },
     "execution_count": 103,
     "metadata": {},
     "output_type": "execute_result"
    }
   ],
   "source": [
    "# your code here\n",
    "response = requests.get(url)\n",
    "soup = BeautifulSoup(response.text, 'html.parser')\n",
    "\n",
    "first_filter= soup.find_all('a', {'class':'image'})\n",
    "first_filter\n",
    "\n",
    "links=[l.get('href') for l in first_filter]\n",
    "links\n",
    "\n",
    "\n"
   ]
  },
  {
   "cell_type": "markdown",
   "metadata": {},
   "source": [
    "#### Retrieve an arbitary Wikipedia page of \"Python\" and create a list of links on that page."
   ]
  },
  {
   "cell_type": "code",
   "execution_count": 107,
   "metadata": {},
   "outputs": [],
   "source": [
    "# This is the url you will scrape in this exercise\n",
    "url ='https://en.wikipedia.org/wiki/Python' "
   ]
  },
  {
   "cell_type": "code",
   "execution_count": 114,
   "metadata": {},
   "outputs": [
    {
     "data": {
      "text/plain": [
       "[None,\n",
       " '#mw-head',\n",
       " '#searchInput',\n",
       " 'https://en.wiktionary.org/wiki/Python',\n",
       " 'https://en.wiktionary.org/wiki/python',\n",
       " '/wiki/Pythons',\n",
       " '/wiki/Python_(genus)',\n",
       " '#Computing',\n",
       " '#People',\n",
       " '#Roller_coasters',\n",
       " '#Vehicles',\n",
       " '#Weaponry',\n",
       " '#Other_uses',\n",
       " '#See_also',\n",
       " '/w/index.php?title=Python&action=edit&section=1',\n",
       " '/wiki/Python_(programming_language)',\n",
       " '/wiki/CMU_Common_Lisp',\n",
       " '/wiki/PERQ#PERQ_3',\n",
       " '/w/index.php?title=Python&action=edit&section=2',\n",
       " '/wiki/Python_of_Aenus',\n",
       " '/wiki/Python_(painter)',\n",
       " '/wiki/Python_of_Byzantium',\n",
       " '/wiki/Python_of_Catana',\n",
       " '/wiki/Python_Anghelo',\n",
       " '/w/index.php?title=Python&action=edit&section=3',\n",
       " '/wiki/Python_(Efteling)',\n",
       " '/wiki/Python_(Busch_Gardens_Tampa_Bay)',\n",
       " '/wiki/Python_(Coney_Island,_Cincinnati,_Ohio)',\n",
       " '/w/index.php?title=Python&action=edit&section=4',\n",
       " '/wiki/Python_(automobile_maker)',\n",
       " '/wiki/Python_(Ford_prototype)',\n",
       " '/w/index.php?title=Python&action=edit&section=5',\n",
       " '/wiki/Python_(missile)',\n",
       " '/wiki/Python_(nuclear_primary)',\n",
       " '/wiki/Colt_Python',\n",
       " '/w/index.php?title=Python&action=edit&section=6',\n",
       " '/wiki/PYTHON',\n",
       " '/wiki/Python_(film)',\n",
       " '/wiki/Python_(mythology)',\n",
       " '/wiki/Monty_Python',\n",
       " '/wiki/Python_(Monty)_Pictures',\n",
       " '/w/index.php?title=Python&action=edit&section=7',\n",
       " '/wiki/Cython',\n",
       " '/wiki/Pyton',\n",
       " '/wiki/Pithon',\n",
       " '/wiki/File:Disambig_gray.svg',\n",
       " '/wiki/Help:Disambiguation',\n",
       " 'https://en.wikipedia.org/w/index.php?title=Special:WhatLinksHere/Python&namespace=0',\n",
       " 'https://en.wikipedia.org/w/index.php?title=Python&oldid=997582414',\n",
       " '/wiki/Help:Category',\n",
       " '/wiki/Category:Disambiguation_pages',\n",
       " '/wiki/Category:Human_name_disambiguation_pages',\n",
       " '/wiki/Category:Disambiguation_pages_with_given-name-holder_lists',\n",
       " '/wiki/Category:Disambiguation_pages_with_short_descriptions',\n",
       " '/wiki/Category:Short_description_is_different_from_Wikidata',\n",
       " '/wiki/Category:All_article_disambiguation_pages',\n",
       " '/wiki/Category:All_disambiguation_pages',\n",
       " '/wiki/Category:Animal_common_name_disambiguation_pages',\n",
       " '/wiki/Special:MyTalk',\n",
       " '/wiki/Special:MyContributions',\n",
       " '/w/index.php?title=Special:CreateAccount&returnto=Python',\n",
       " '/w/index.php?title=Special:UserLogin&returnto=Python',\n",
       " '/wiki/Python',\n",
       " '/wiki/Talk:Python',\n",
       " '/wiki/Python',\n",
       " '/w/index.php?title=Python&action=edit',\n",
       " '/w/index.php?title=Python&action=history',\n",
       " '/wiki/Main_Page',\n",
       " '/wiki/Main_Page',\n",
       " '/wiki/Wikipedia:Contents',\n",
       " '/wiki/Portal:Current_events',\n",
       " '/wiki/Special:Random',\n",
       " '/wiki/Wikipedia:About',\n",
       " '//en.wikipedia.org/wiki/Wikipedia:Contact_us',\n",
       " 'https://donate.wikimedia.org/wiki/Special:FundraiserRedirector?utm_source=donate&utm_medium=sidebar&utm_campaign=C13_en.wikipedia.org&uselang=en',\n",
       " '/wiki/Help:Contents',\n",
       " '/wiki/Help:Introduction',\n",
       " '/wiki/Wikipedia:Community_portal',\n",
       " '/wiki/Special:RecentChanges',\n",
       " '/wiki/Wikipedia:File_Upload_Wizard',\n",
       " '/wiki/Special:WhatLinksHere/Python',\n",
       " '/wiki/Special:RecentChangesLinked/Python',\n",
       " '/wiki/Wikipedia:File_Upload_Wizard',\n",
       " '/wiki/Special:SpecialPages',\n",
       " '/w/index.php?title=Python&oldid=997582414',\n",
       " '/w/index.php?title=Python&action=info',\n",
       " '/w/index.php?title=Special:CiteThisPage&page=Python&id=997582414&wpFormIdentifier=titleform',\n",
       " 'https://www.wikidata.org/wiki/Special:EntityPage/Q747452',\n",
       " '/w/index.php?title=Special:DownloadAsPdf&page=Python&action=show-download-screen',\n",
       " '/w/index.php?title=Python&printable=yes',\n",
       " 'https://commons.wikimedia.org/wiki/Category:Python',\n",
       " 'https://af.wikipedia.org/wiki/Python',\n",
       " 'https://als.wikipedia.org/wiki/Python',\n",
       " 'https://ar.wikipedia.org/wiki/%D8%A8%D8%A7%D9%8A%D8%AB%D9%88%D9%86_(%D8%AA%D9%88%D8%B6%D9%8A%D8%AD)',\n",
       " 'https://az.wikipedia.org/wiki/Python',\n",
       " 'https://bn.wikipedia.org/wiki/%E0%A6%AA%E0%A6%BE%E0%A6%87%E0%A6%A5%E0%A6%A8_(%E0%A6%A6%E0%A7%8D%E0%A6%AC%E0%A7%8D%E0%A6%AF%E0%A6%B0%E0%A7%8D%E0%A6%A5%E0%A6%A4%E0%A6%BE_%E0%A6%A8%E0%A6%BF%E0%A6%B0%E0%A6%B8%E0%A6%A8)',\n",
       " 'https://be.wikipedia.org/wiki/Python',\n",
       " 'https://bg.wikipedia.org/wiki/%D0%9F%D0%B8%D1%82%D0%BE%D0%BD_(%D0%BF%D0%BE%D1%8F%D1%81%D0%BD%D0%B5%D0%BD%D0%B8%D0%B5)',\n",
       " 'https://cs.wikipedia.org/wiki/Python_(rozcestn%C3%ADk)',\n",
       " 'https://da.wikipedia.org/wiki/Python',\n",
       " 'https://de.wikipedia.org/wiki/Python',\n",
       " 'https://eo.wikipedia.org/wiki/Pitono_(apartigilo)',\n",
       " 'https://eu.wikipedia.org/wiki/Python_(argipena)',\n",
       " 'https://fa.wikipedia.org/wiki/%D9%BE%D8%A7%DB%8C%D8%AA%D9%88%D9%86',\n",
       " 'https://fr.wikipedia.org/wiki/Python',\n",
       " 'https://ko.wikipedia.org/wiki/%ED%8C%8C%EC%9D%B4%EC%84%A0',\n",
       " 'https://hr.wikipedia.org/wiki/Python_(razdvojba)',\n",
       " 'https://io.wikipedia.org/wiki/Pitono',\n",
       " 'https://id.wikipedia.org/wiki/Python',\n",
       " 'https://ia.wikipedia.org/wiki/Python_(disambiguation)',\n",
       " 'https://is.wikipedia.org/wiki/Python_(a%C3%B0greining)',\n",
       " 'https://it.wikipedia.org/wiki/Python_(disambigua)',\n",
       " 'https://he.wikipedia.org/wiki/%D7%A4%D7%99%D7%AA%D7%95%D7%9F',\n",
       " 'https://ka.wikipedia.org/wiki/%E1%83%9E%E1%83%98%E1%83%97%E1%83%9D%E1%83%9C%E1%83%98_(%E1%83%9B%E1%83%A0%E1%83%90%E1%83%95%E1%83%90%E1%83%9A%E1%83%9B%E1%83%9C%E1%83%98%E1%83%A8%E1%83%95%E1%83%9C%E1%83%94%E1%83%9A%E1%83%9D%E1%83%95%E1%83%90%E1%83%9C%E1%83%98)',\n",
       " 'https://kg.wikipedia.org/wiki/Mboma_(nyoka)',\n",
       " 'https://la.wikipedia.org/wiki/Python_(discretiva)',\n",
       " 'https://lb.wikipedia.org/wiki/Python',\n",
       " 'https://hu.wikipedia.org/wiki/Python_(egy%C3%A9rtelm%C5%B1s%C3%ADt%C5%91_lap)',\n",
       " 'https://mr.wikipedia.org/wiki/%E0%A4%AA%E0%A4%BE%E0%A4%AF%E0%A4%A5%E0%A5%89%E0%A4%A8_(%E0%A4%86%E0%A4%9C%E0%A5%8D%E0%A4%9E%E0%A4%BE%E0%A4%B5%E0%A4%B2%E0%A5%80_%E0%A4%AD%E0%A4%BE%E0%A4%B7%E0%A4%BE)',\n",
       " 'https://nl.wikipedia.org/wiki/Python',\n",
       " 'https://ja.wikipedia.org/wiki/%E3%83%91%E3%82%A4%E3%82%BD%E3%83%B3',\n",
       " 'https://no.wikipedia.org/wiki/Pyton',\n",
       " 'https://pl.wikipedia.org/wiki/Pyton',\n",
       " 'https://pt.wikipedia.org/wiki/Python_(desambigua%C3%A7%C3%A3o)',\n",
       " 'https://ru.wikipedia.org/wiki/Python_(%D0%B7%D0%BD%D0%B0%D1%87%D0%B5%D0%BD%D0%B8%D1%8F)',\n",
       " 'https://sk.wikipedia.org/wiki/Python',\n",
       " 'https://sr.wikipedia.org/wiki/%D0%9F%D0%B8%D1%82%D0%BE%D0%BD_(%D0%B2%D0%B8%D1%88%D0%B5%D0%B7%D0%BD%D0%B0%D1%87%D0%BD%D0%B0_%D0%BE%D0%B4%D1%80%D0%B5%D0%B4%D0%BD%D0%B8%D1%86%D0%B0)',\n",
       " 'https://sh.wikipedia.org/wiki/Python',\n",
       " 'https://fi.wikipedia.org/wiki/Python',\n",
       " 'https://sv.wikipedia.org/wiki/Pyton',\n",
       " 'https://th.wikipedia.org/wiki/%E0%B9%84%E0%B8%9E%E0%B8%97%E0%B8%AD%E0%B8%99',\n",
       " 'https://tr.wikipedia.org/wiki/Python',\n",
       " 'https://uk.wikipedia.org/wiki/%D0%9F%D1%96%D1%84%D0%BE%D0%BD',\n",
       " 'https://ur.wikipedia.org/wiki/%D9%BE%D8%A7%D8%A6%DB%8C%D8%AA%DA%BE%D9%88%D9%86',\n",
       " 'https://vi.wikipedia.org/wiki/Python',\n",
       " 'https://zh.wikipedia.org/wiki/Python_(%E6%B6%88%E6%AD%A7%E4%B9%89)',\n",
       " 'https://www.wikidata.org/wiki/Special:EntityPage/Q747452#sitelinks-wikipedia',\n",
       " '//en.wikipedia.org/wiki/Wikipedia:Text_of_Creative_Commons_Attribution-ShareAlike_3.0_Unported_License',\n",
       " '//creativecommons.org/licenses/by-sa/3.0/',\n",
       " '//foundation.wikimedia.org/wiki/Terms_of_Use',\n",
       " '//foundation.wikimedia.org/wiki/Privacy_policy',\n",
       " '//www.wikimediafoundation.org/',\n",
       " 'https://foundation.wikimedia.org/wiki/Privacy_policy',\n",
       " '/wiki/Wikipedia:About',\n",
       " '/wiki/Wikipedia:General_disclaimer',\n",
       " '//en.wikipedia.org/wiki/Wikipedia:Contact_us',\n",
       " '//en.m.wikipedia.org/w/index.php?title=Python&mobileaction=toggle_view_mobile',\n",
       " 'https://www.mediawiki.org/wiki/Special:MyLanguage/How_to_contribute',\n",
       " 'https://stats.wikimedia.org/#/en.wikipedia.org',\n",
       " 'https://foundation.wikimedia.org/wiki/Cookie_statement',\n",
       " 'https://wikimediafoundation.org/',\n",
       " 'https://www.mediawiki.org/']"
      ]
     },
     "execution_count": 114,
     "metadata": {},
     "output_type": "execute_result"
    }
   ],
   "source": [
    "# your code here\n",
    "\n",
    "response= requests.get(url)\n",
    "soup= BeautifulSoup(response.text, 'html.parser')\n",
    "\n",
    "find_a= soup.find_all('a')\n",
    "\n",
    "new_links=[l.get('href') for l in find_a]\n",
    "new_links\n",
    "\n",
    "\n",
    "\n",
    "\n"
   ]
  },
  {
   "cell_type": "markdown",
   "metadata": {},
   "source": [
    "#### Find the number of titles that have changed in the United States Code since its last release point."
   ]
  },
  {
   "cell_type": "code",
   "execution_count": 117,
   "metadata": {},
   "outputs": [],
   "source": [
    "# This is the url you will scrape in this exercise\n",
    "url = 'http://uscode.house.gov/download/download.shtml'"
   ]
  },
  {
   "cell_type": "code",
   "execution_count": 126,
   "metadata": {},
   "outputs": [
    {
     "data": {
      "text/plain": [
       "['Title 1 - General Provisions ٭',\n",
       " 'Title 2 - The Congress',\n",
       " 'Title 3 - The President ٭',\n",
       " 'Title 4 - Flag and Seal, Seat of Government, and the States ٭',\n",
       " 'Title 5 - Government Organization and Employees ٭',\n",
       " 'Title 7 - Agriculture',\n",
       " 'Title 8 - Aliens and Nationality',\n",
       " 'Title 9 - Arbitration ٭',\n",
       " 'Title 11 - Bankruptcy ٭',\n",
       " 'Title 12 - Banks and Banking',\n",
       " 'Title 13 - Census ٭',\n",
       " 'Title 14 - Coast Guard ٭',\n",
       " 'Title 16 - Conservation',\n",
       " 'Title 17 - Copyrights ٭',\n",
       " 'Title 18 - Crimes and Criminal Procedure ٭',\n",
       " 'Title 19 - Customs Duties',\n",
       " 'Title 21 - Food and Drugs',\n",
       " 'Title 22 - Foreign Relations and Intercourse',\n",
       " 'Title 23 - Highways ٭',\n",
       " 'Title 24 - Hospitals and Asylums',\n",
       " 'Title 25 - Indians',\n",
       " 'Title 26 - Internal Revenue Code',\n",
       " 'Title 27 - Intoxicating Liquors',\n",
       " 'Title 29 - Labor',\n",
       " 'Title 30 - Mineral Lands and Mining',\n",
       " 'Title 32 - National Guard ٭',\n",
       " 'Title 34 - Crime Control and Law Enforcement',\n",
       " 'Title 35 - Patents ٭',\n",
       " 'Title 39 - Postal Service ٭',\n",
       " 'Title 41 - Public Contracts ٭',\n",
       " 'Title 42 - The Public Health and Welfare',\n",
       " 'Title 43 - Public Lands',\n",
       " 'Title 44 - Public Printing and Documents ٭',\n",
       " 'Title 45 - Railroads',\n",
       " 'Title 47 - Telecommunications',\n",
       " 'Title 48 - Territories and Insular Possessions',\n",
       " 'Title 49 - Transportation ٭',\n",
       " 'Title 50 - War and National Defense',\n",
       " 'Title 51 - National and Commercial Space Programs ٭',\n",
       " 'Title 52 - Voting and Elections',\n",
       " 'Title 53 [Reserved]',\n",
       " 'Title 54 - National Park Service and Related Programs ٭']"
      ]
     },
     "execution_count": 126,
     "metadata": {},
     "output_type": "execute_result"
    }
   ],
   "source": [
    "# your code here\n",
    "\n",
    "response= requests.get(url)\n",
    "soup=BeautifulSoup(response.text, 'html.parser')\n",
    "\n",
    "filtering= soup.find_all('div', {'class', 'usctitle'})\n",
    "\n",
    "titles=[l.text.replace('\\n', '').strip() for l in filtering]\n",
    "titles=titles[2:]\n",
    "titles\n",
    "\n",
    "\n",
    "\n",
    "\n"
   ]
  },
  {
   "cell_type": "markdown",
   "metadata": {},
   "source": [
    "#### Find a Python list with the top ten FBI's Most Wanted names."
   ]
  },
  {
   "cell_type": "code",
   "execution_count": 127,
   "metadata": {},
   "outputs": [],
   "source": [
    "# This is the url you will scrape in this exercise\n",
    "url = 'https://www.fbi.gov/wanted/topten'"
   ]
  },
  {
   "cell_type": "code",
   "execution_count": 137,
   "metadata": {},
   "outputs": [
    {
     "data": {
      "text/plain": [
       "['ALEJANDRO ROSALES CASTILLO',\n",
       " 'ARNOLDO JIMENEZ',\n",
       " 'JASON DEREK BROWN',\n",
       " 'ALEXIS FLORES',\n",
       " 'JOSE RODOLFO VILLARREAL-HERNANDEZ',\n",
       " 'EUGENE PALMER',\n",
       " 'RAFAEL CARO-QUINTERO',\n",
       " 'ROBERT WILLIAM FISHER',\n",
       " 'BHADRESHKUMAR CHETANBHAI PATEL',\n",
       " 'YASER ABDEL SAID']"
      ]
     },
     "execution_count": 137,
     "metadata": {},
     "output_type": "execute_result"
    }
   ],
   "source": [
    "# your code here\n",
    "\n",
    "response= requests.get(url)\n",
    "soup= BeautifulSoup(response.text, 'html.parser')\n",
    "\n",
    "links=soup.find_all('h3', {'class': 'title'})\n",
    "\n",
    "names= [l.text.replace('\\n','').strip() for l in links]\n",
    "names\n",
    "\n",
    "\n"
   ]
  },
  {
   "cell_type": "markdown",
   "metadata": {},
   "source": [
    "####  Display the 20 latest earthquakes info (date, time, latitude, longitude and region name) by the EMSC as a pandas dataframe."
   ]
  },
  {
   "cell_type": "code",
   "execution_count": 144,
   "metadata": {},
   "outputs": [],
   "source": [
    "# This is the url you will scrape in this exercise\n",
    "url = 'https://www.emsc-csem.org/Earthquake/'"
   ]
  },
  {
   "cell_type": "code",
   "execution_count": 146,
   "metadata": {},
   "outputs": [
    {
     "data": {
      "text/plain": [
       "[<tbody id=\"tbody\"><tr class=\"ligne1 normal\" id=\"945083\" onclick=\"go_details(event,945083);\"><td class=\"tabev0\" style=\"text-align:center;\"><a href=\"https://www.emsc-csem.org/Earthquake/Testimonies/comments.php?id=945083\" onmouseout=\"info_b2('notshow','');\" onmouseover=\"info_b2('show','See the &lt;b&gt;2 testimonies&lt;/b&gt; for this earthquake');\"><span class=\"\" style=\"vertical-align:middle;\">2</span></a></td><td class=\"tabev0\"></td><td class=\"tabev0\"><span class=\"intensity\" onclick=\"go_details(event,null,'https://www.emsc-csem.org/Earthquake/popup_intensmap.php?id=945083&amp;f=/FELTREPORTS/94/945083/IntensityMap.png');\" onmouseout=\"info_b2('notshow','');\" onmouseover=\"info_b2('show','See the &lt;b&gt; Intensity map&lt;/b&gt;');\" style=\"background-color:#66CCFF;\">III</span></td><td class=\"tabev6\"><b><i style=\"display:none;\">earthquake</i><a href=\"/Earthquake/earthquake.php?id=945083\">2021-02-02   15:19:51.9</a></b><i class=\"ago\" id=\"ago0\">07min ago</i></td><td class=\"tabev1\">37.18 </td><td class=\"tabev2\">N  </td><td class=\"tabev1\">3.77 </td><td class=\"tabev2\">W  </td><td class=\"tabev3\">5</td><td class=\"tabev5\" id=\"magtyp0\">ML</td><td class=\"tabev2\">3.5</td><td class=\"tb_region\" id=\"reg0\"> SPAIN</td><td class=\"comment updatetimeno\" id=\"upd0\" style=\"text-align:right;\">2021-02-02 15:21</td></tr>\n",
       " <tr class=\"ligne2 normal\" id=\"945081\" onclick=\"go_details(event,945081);\"><td class=\"tabev0\"></td><td class=\"tabev0\"></td><td class=\"tabev0\"></td><td class=\"tabev6\"><b><i style=\"display:none;\">earthquake</i><a href=\"/Earthquake/earthquake.php?id=945081\">2021-02-02   15:03:13.5</a></b><i class=\"ago\" id=\"ago1\">24min ago</i></td><td class=\"tabev1\">33.39 </td><td class=\"tabev2\">N  </td><td class=\"tabev1\">116.44 </td><td class=\"tabev2\">W  </td><td class=\"tabev3\">11</td><td class=\"tabev5\" id=\"magtyp1\">Ml</td><td class=\"tabev2\">2.2</td><td class=\"tb_region\" id=\"reg1\"> SOUTHERN CALIFORNIA</td><td class=\"comment updatetimeno\" id=\"upd1\" style=\"text-align:right;\">2021-02-02 15:05</td></tr>\n",
       " <tr class=\"ligne1 normal\" id=\"945079\" onclick=\"go_details(event,945079);\"><td class=\"tabev0\"></td><td class=\"tabev0\"></td><td class=\"tabev0\"></td><td class=\"tabev6\"><b><i style=\"display:none;\">earthquake</i><a href=\"/Earthquake/earthquake.php?id=945079\">2021-02-02   14:58:21.9</a></b><i class=\"ago\" id=\"ago2\">29min ago</i></td><td class=\"tabev1\">37.20 </td><td class=\"tabev2\">N  </td><td class=\"tabev1\">3.72 </td><td class=\"tabev2\">W  </td><td class=\"tabev3\">4</td><td class=\"tabev5\" id=\"magtyp2\">ML</td><td class=\"tabev2\">1.6</td><td class=\"tb_region\" id=\"reg2\"> SPAIN</td><td class=\"comment updatetimeno\" id=\"upd2\" style=\"text-align:right;\">2021-02-02 15:03</td></tr>\n",
       " <tr class=\"ligne2 normal\" id=\"945078\" onclick=\"go_details(event,945078);\"><td class=\"tabev0\"></td><td class=\"tabev0\"></td><td class=\"tabev0\"></td><td class=\"tabev6\"><b><i style=\"display:none;\">earthquake</i><a href=\"/Earthquake/earthquake.php?id=945078\">2021-02-02   14:53:57.0</a></b><i class=\"ago\" id=\"ago3\">33min ago</i></td><td class=\"tabev1\">37.21 </td><td class=\"tabev2\">N  </td><td class=\"tabev1\">3.72 </td><td class=\"tabev2\">W  </td><td class=\"tabev3\">4</td><td class=\"tabev5\" id=\"magtyp3\">ML</td><td class=\"tabev2\">1.6</td><td class=\"tb_region\" id=\"reg3\"> SPAIN</td><td class=\"comment updatetimeno\" id=\"upd3\" style=\"text-align:right;\">2021-02-02 14:59</td></tr>\n",
       " <tr class=\"ligne1 normal\" id=\"945076\" onclick=\"go_details(event,945076);\"><td class=\"tabev0\"></td><td class=\"tabev0\"></td><td class=\"tabev0\"></td><td class=\"tabev6\"><b><i style=\"display:none;\">earthquake</i><a href=\"/Earthquake/earthquake.php?id=945076\">2021-02-02   14:45:03.0</a></b><i class=\"ago\" id=\"ago4\">42min ago</i></td><td class=\"tabev1\">4.19 </td><td class=\"tabev2\">N  </td><td class=\"tabev1\">126.55 </td><td class=\"tabev2\">E  </td><td class=\"tabev3\">27</td><td class=\"tabev5\" id=\"magtyp4\"> M</td><td class=\"tabev2\">3.5</td><td class=\"tb_region\" id=\"reg4\"> KEPULAUAN TALAUD, INDONESIA</td><td class=\"comment updatetimeno\" id=\"upd4\" style=\"text-align:right;\">2021-02-02 15:00</td></tr>\n",
       " <tr class=\"ligne2 normal\" id=\"945073\" onclick=\"go_details(event,945073);\"><td class=\"tabev0\"></td><td class=\"tabev0\"></td><td class=\"tabev0\"></td><td class=\"tabev6\"><b><i style=\"display:none;\">earthquake</i><a href=\"/Earthquake/earthquake.php?id=945073\">2021-02-02   14:38:12.2</a></b><i class=\"ago\" id=\"ago5\">49min ago</i></td><td class=\"tabev1\">46.87 </td><td class=\"tabev2\">N  </td><td class=\"tabev1\">8.60 </td><td class=\"tabev2\">E  </td><td class=\"tabev3\">1</td><td class=\"tabev5\" id=\"magtyp5\">ML</td><td class=\"tabev2\">1.7</td><td class=\"tb_region\" id=\"reg5\"> SWITZERLAND</td><td class=\"comment updatetimeno\" id=\"upd5\" style=\"text-align:right;\">2021-02-02 14:43</td></tr>\n",
       " <tr class=\"ligne1 normal\" id=\"945075\" onclick=\"go_details(event,945075);\"><td class=\"tabev0\"></td><td class=\"tabev0\"></td><td class=\"tabev0\"></td><td class=\"tabev6\"><b><i style=\"display:none;\">earthquake</i><a href=\"/Earthquake/earthquake.php?id=945075\">2021-02-02   14:37:41.1</a></b><i class=\"ago\" id=\"ago6\">49min ago</i></td><td class=\"tabev1\">4.02 </td><td class=\"tabev2\">N  </td><td class=\"tabev1\">126.55 </td><td class=\"tabev2\">E  </td><td class=\"tabev3\">63</td><td class=\"tabev5\" id=\"magtyp6\">mb</td><td class=\"tabev2\">5.0</td><td class=\"tb_region\" id=\"reg6\"> KEPULAUAN TALAUD, INDONESIA</td><td class=\"comment updatetimeno\" id=\"upd6\" style=\"text-align:right;\">2021-02-02 14:57</td></tr>\n",
       " <tr class=\"ligne2 normal\" id=\"945069\" onclick=\"go_details(event,945069);\"><td class=\"tabev0\"></td><td class=\"tabev0\"></td><td class=\"tabev0\"></td><td class=\"tabev6\"><b><i style=\"display:none;\">earthquake</i><a href=\"/Earthquake/earthquake.php?id=945069\">2021-02-02   14:12:06.9</a></b><i class=\"ago\" id=\"ago7\">1hr 15min ago</i></td><td class=\"tabev1\">37.21 </td><td class=\"tabev2\">N  </td><td class=\"tabev1\">3.70 </td><td class=\"tabev2\">W  </td><td class=\"tabev3\">6</td><td class=\"tabev5\" id=\"magtyp7\">ML</td><td class=\"tabev2\">1.5</td><td class=\"tb_region\" id=\"reg7\"> SPAIN</td><td class=\"comment updatetimeno\" id=\"upd7\" style=\"text-align:right;\">2021-02-02 14:24</td></tr>\n",
       " <tr class=\"ligne1 normal\" id=\"945070\" onclick=\"go_details(event,945070);\"><td class=\"tabev0\"></td><td class=\"tabev0\"></td><td class=\"tabev0\"></td><td class=\"tabev6\"><b><i style=\"display:none;\">earthquake</i><a href=\"/Earthquake/earthquake.php?id=945070\">2021-02-02   14:06:35.4</a></b><i class=\"ago\" id=\"ago8\">1hr 20min ago</i></td><td class=\"tabev1\">39.12 </td><td class=\"tabev2\">N  </td><td class=\"tabev1\">36.03 </td><td class=\"tabev2\">E  </td><td class=\"tabev3\">7</td><td class=\"tabev5\" id=\"magtyp8\">ML</td><td class=\"tabev2\">2.0</td><td class=\"tb_region\" id=\"reg8\"> CENTRAL TURKEY</td><td class=\"comment updatetimeno\" id=\"upd8\" style=\"text-align:right;\">2021-02-02 14:26</td></tr>\n",
       " <tr class=\"ligne2 normal\" id=\"945067\" onclick=\"go_details(event,945067);\"><td class=\"tabev0\" style=\"text-align:center;\"><a href=\"https://www.emsc-csem.org/Earthquake/Testimonies/comments.php?id=945067\" onmouseout=\"info_b2('notshow','');\" onmouseover=\"info_b2('show','See the &lt;b&gt;8 testimonies&lt;/b&gt; for this earthquake');\"><span class=\"\" style=\"vertical-align:middle;\">8</span></a></td><td class=\"tabev0\"></td><td class=\"tabev0\"><span class=\"intensity\" onclick=\"go_details(event,null,'https://www.emsc-csem.org/Earthquake/popup_intensmap.php?id=945067&amp;f=/FELTREPORTS/94/945067/IntensityMap.png');\" onmouseout=\"info_b2('notshow','');\" onmouseover=\"info_b2('show','See the &lt;b&gt; Intensity map&lt;/b&gt;');\" style=\"background-color:#00FFFF;\">IV</span></td><td class=\"tabev6\"><b><i style=\"display:none;\">earthquake</i><a href=\"/Earthquake/earthquake.php?id=945067\">2021-02-02   14:04:40.0</a></b><i class=\"ago\" id=\"ago9\">1hr 22min ago</i></td><td class=\"tabev1\">46.24 </td><td class=\"tabev2\">N  </td><td class=\"tabev1\">16.34 </td><td class=\"tabev2\">E  </td><td class=\"tabev3\">2</td><td class=\"tabev5\" id=\"magtyp9\">ML</td><td class=\"tabev2\">1.6</td><td class=\"tb_region\" id=\"reg9\"> CROATIA</td><td class=\"comment updatetimeno\" id=\"upd9\" style=\"text-align:right;\">2021-02-02 14:08</td></tr>\n",
       " <tr class=\"ligne1 normal\" id=\"945051\" onclick=\"go_details(event,945051);\"><td class=\"tabev0\"></td><td class=\"tabev0\"></td><td class=\"tabev0\"></td><td class=\"tabev6\"><b><i style=\"display:none;\">earthquake</i><a href=\"/Earthquake/earthquake.php?id=945051\">2021-02-02   13:48:03.7</a></b><i class=\"ago\" id=\"ago10\">1hr 39min ago</i></td><td class=\"tabev1\">37.21 </td><td class=\"tabev2\">N  </td><td class=\"tabev1\">3.71 </td><td class=\"tabev2\">W  </td><td class=\"tabev3\">3</td><td class=\"tabev5\" id=\"magtyp10\">ML</td><td class=\"tabev2\">1.6</td><td class=\"tb_region\" id=\"reg10\"> SPAIN</td><td class=\"comment updatetimeno\" id=\"upd10\" style=\"text-align:right;\">2021-02-02 14:01</td></tr>\n",
       " <tr class=\"ligne2 normal\" id=\"945050\" onclick=\"go_details(event,945050);\"><td class=\"tabev0\"></td><td class=\"tabev0\"></td><td class=\"tabev0\"></td><td class=\"tabev6\"><b><i style=\"display:none;\">earthquake</i><a href=\"/Earthquake/earthquake.php?id=945050\">2021-02-02   13:46:26.0</a></b><i class=\"ago\" id=\"ago11\">1hr 41min ago</i></td><td class=\"tabev1\">7.52 </td><td class=\"tabev2\">S  </td><td class=\"tabev1\">128.51 </td><td class=\"tabev2\">E  </td><td class=\"tabev3\">85</td><td class=\"tabev5\" id=\"magtyp11\"> M</td><td class=\"tabev2\">4.4</td><td class=\"tb_region\" id=\"reg11\"> KEPULAUAN BARAT DAYA, INDONESIA</td><td class=\"comment updatetimeno\" id=\"upd11\" style=\"text-align:right;\">2021-02-02 14:00</td></tr>\n",
       " <tr class=\"ligne1 normal\" id=\"945048\" onclick=\"go_details(event,945048);\"><td class=\"tabev0\"></td><td class=\"tabev0\"></td><td class=\"tabev0\"></td><td class=\"tabev6\"><b><i style=\"display:none;\">earthquake</i><a href=\"/Earthquake/earthquake.php?id=945048\">2021-02-02   13:42:16.0</a></b><i class=\"ago\" id=\"ago12\">1hr 45min ago</i></td><td class=\"tabev1\">2.44 </td><td class=\"tabev2\">N  </td><td class=\"tabev1\">126.95 </td><td class=\"tabev2\">E  </td><td class=\"tabev3\">17</td><td class=\"tabev5\" id=\"magtyp12\"> M</td><td class=\"tabev2\">3.1</td><td class=\"tb_region\" id=\"reg12\"> MOLUCCA SEA</td><td class=\"comment updatetimeno\" id=\"upd12\" style=\"text-align:right;\">2021-02-02 13:56</td></tr>\n",
       " <tr class=\"ligne2 normal\" id=\"945049\" onclick=\"go_details(event,945049);\"><td class=\"tabev0\"></td><td class=\"tabev0\"></td><td class=\"tabev0\"></td><td class=\"tabev6\"><b><i style=\"display:none;\">earthquake</i><a href=\"/Earthquake/earthquake.php?id=945049\">2021-02-02   13:33:32.1</a></b><i class=\"ago\" id=\"ago13\">1hr 53min ago</i></td><td class=\"tabev1\">19.28 </td><td class=\"tabev2\">N  </td><td class=\"tabev1\">67.20 </td><td class=\"tabev2\">W  </td><td class=\"tabev3\">31</td><td class=\"tabev5\" id=\"magtyp13\">ML</td><td class=\"tabev2\">2.5</td><td class=\"tb_region\" id=\"reg13\"> PUERTO RICO REGION</td><td class=\"comment updatetimeno\" id=\"upd13\" style=\"text-align:right;\">2021-02-02 14:19</td></tr>\n",
       " <tr class=\"ligne1 normal\" id=\"945047\" onclick=\"go_details(event,945047);\"><td class=\"tabev0\"></td><td class=\"tabev0\"></td><td class=\"tabev0\"></td><td class=\"tabev6\"><b><i style=\"display:none;\">earthquake</i><a href=\"/Earthquake/earthquake.php?id=945047\">2021-02-02   13:28:34.5</a></b><i class=\"ago\" id=\"ago14\">1hr 58min ago</i></td><td class=\"tabev1\">19.14 </td><td class=\"tabev2\">N  </td><td class=\"tabev1\">67.16 </td><td class=\"tabev2\">W  </td><td class=\"tabev3\">30</td><td class=\"tabev5\" id=\"magtyp14\">mb</td><td class=\"tabev2\">3.9</td><td class=\"tb_region\" id=\"reg14\"> PUERTO RICO REGION</td><td class=\"comment updatetimeno\" id=\"upd14\" style=\"text-align:right;\">2021-02-02 14:21</td></tr>\n",
       " <tr class=\"ligne2 normal\" id=\"945046\" onclick=\"go_details(event,945046);\"><td class=\"tabev0\"></td><td class=\"tabev0\"></td><td class=\"tabev0\"></td><td class=\"tabev6\"><b><i style=\"display:none;\">earthquake</i><a href=\"/Earthquake/earthquake.php?id=945046\">2021-02-02   13:28:28.3</a></b><i class=\"ago\" id=\"ago15\">1hr 59min ago</i></td><td class=\"tabev1\">39.11 </td><td class=\"tabev2\">N  </td><td class=\"tabev1\">36.04 </td><td class=\"tabev2\">E  </td><td class=\"tabev3\">10</td><td class=\"tabev5\" id=\"magtyp15\">ML</td><td class=\"tabev2\">2.6</td><td class=\"tb_region\" id=\"reg15\"> CENTRAL TURKEY</td><td class=\"comment updatetimeno\" id=\"upd15\" style=\"text-align:right;\">2021-02-02 13:46</td></tr>\n",
       " <tr class=\"ligne1 normal\" id=\"945044\" onclick=\"go_details(event,945044);\"><td class=\"tabev0\" style=\"text-align:center;\"><a href=\"https://www.emsc-csem.org/Earthquake/Testimonies/comments.php?id=945044\" onmouseout=\"info_b2('notshow','');\" onmouseover=\"info_b2('show','See the &lt;b&gt;2 testimonies&lt;/b&gt; for this earthquake');\"><span class=\"\" style=\"vertical-align:middle;\">2</span></a></td><td class=\"tabev0\"></td><td class=\"tabev0\"><span class=\"intensity\" onclick=\"go_details(event,null,'https://www.emsc-csem.org/Earthquake/popup_intensmap.php?id=945044&amp;f=/FELTREPORTS/94/945044/IntensityMap.png');\" onmouseout=\"info_b2('notshow','');\" onmouseover=\"info_b2('show','See the &lt;b&gt; Intensity map&lt;/b&gt;');\" style=\"background-color:#FFFFFF;\">F</span></td><td class=\"tabev6\"><b><i style=\"display:none;\">earthquake</i><a href=\"/Earthquake/earthquake.php?id=945044\">2021-02-02   13:27:31.6</a></b><i class=\"ago\" id=\"ago16\">1hr 59min ago</i></td><td class=\"tabev1\">37.21 </td><td class=\"tabev2\">N  </td><td class=\"tabev1\">3.74 </td><td class=\"tabev2\">W  </td><td class=\"tabev3\">10</td><td class=\"tabev5\" id=\"magtyp16\">ML</td><td class=\"tabev2\">2.9</td><td class=\"tb_region\" id=\"reg16\"> SPAIN</td><td class=\"comment updatetimeno\" id=\"upd16\" style=\"text-align:right;\">2021-02-02 13:56</td></tr>\n",
       " <tr class=\"ligne2 normal\" id=\"945043\" onclick=\"go_details(event,945043);\"><td class=\"tabev0\"></td><td class=\"tabev0\"></td><td class=\"tabev0\"></td><td class=\"tabev6\"><b><i style=\"display:none;\">earthquake</i><a href=\"/Earthquake/earthquake.php?id=945043\">2021-02-02   13:10:22.3</a></b><i class=\"ago\" id=\"ago17\">2hr 17min ago</i></td><td class=\"tabev1\">38.45 </td><td class=\"tabev2\">N  </td><td class=\"tabev1\">12.93 </td><td class=\"tabev2\">E  </td><td class=\"tabev3\">10</td><td class=\"tabev5\" id=\"magtyp17\">ML</td><td class=\"tabev2\">2.2</td><td class=\"tb_region\" id=\"reg17\"> SICILY, ITALY</td><td class=\"comment updatetimeno\" id=\"upd17\" style=\"text-align:right;\">2021-02-02 13:26</td></tr>\n",
       " <tr class=\"ligne1 normal\" id=\"945039\" onclick=\"go_details(event,945039);\"><td class=\"tabev0\"></td><td class=\"tabev0\"></td><td class=\"tabev0\"></td><td class=\"tabev6\"><b><i style=\"display:none;\">earthquake</i><a href=\"/Earthquake/earthquake.php?id=945039\">2021-02-02   13:09:03.6</a></b><i class=\"ago\" id=\"ago18\">2hr 18min ago</i></td><td class=\"tabev1\">38.94 </td><td class=\"tabev2\">N  </td><td class=\"tabev1\">25.99 </td><td class=\"tabev2\">E  </td><td class=\"tabev3\">8</td><td class=\"tabev5\" id=\"magtyp18\">ML</td><td class=\"tabev2\">2.5</td><td class=\"tb_region\" id=\"reg18\"> AEGEAN SEA</td><td class=\"comment updatetimeno\" id=\"upd18\" style=\"text-align:right;\">2021-02-02 13:38</td></tr>\n",
       " <tr class=\"ligne2 normal\" id=\"945038\" onclick=\"go_details(event,945038);\"><td class=\"tabev0\" style=\"text-align:center;\"><a href=\"https://www.emsc-csem.org/Earthquake/Testimonies/comments.php?id=945038\" onmouseout=\"info_b2('notshow','');\" onmouseover=\"info_b2('show','See the &lt;b&gt;2 testimonies&lt;/b&gt; for this earthquake');\"><span class=\"\" style=\"vertical-align:middle;\">2</span></a></td><td class=\"tabev0\"></td><td class=\"tabev0\"><span class=\"intensity\" onclick=\"go_details(event,null,'https://www.emsc-csem.org/Earthquake/popup_intensmap.php?id=945038&amp;f=/FELTREPORTS/94/945038/IntensityMap.png');\" onmouseout=\"info_b2('notshow','');\" onmouseover=\"info_b2('show','See the &lt;b&gt; Intensity map&lt;/b&gt;');\" style=\"background-color:#FFFFFF;\">F</span></td><td class=\"tabev6\"><b><i style=\"display:none;\">earthquake</i><a href=\"/Earthquake/earthquake.php?id=945038\">2021-02-02   13:02:20.2</a></b><i class=\"ago\" id=\"ago19\">2hr 25min ago</i></td><td class=\"tabev1\">41.97 </td><td class=\"tabev2\">N  </td><td class=\"tabev1\">32.49 </td><td class=\"tabev2\">E  </td><td class=\"tabev3\">2</td><td class=\"tabev5\" id=\"magtyp19\">ML</td><td class=\"tabev2\">3.3</td><td class=\"tb_region\" id=\"reg19\"> CENTRAL TURKEY</td><td class=\"comment updatetimeno\" id=\"upd19\" style=\"text-align:right;\">2021-02-02 13:43</td></tr>\n",
       " <tr class=\"ligne1 normal\" id=\"945034\" onclick=\"go_details(event,945034);\"><td class=\"tabev0\"></td><td class=\"tabev0\"></td><td class=\"tabev0\"></td><td class=\"tabev6\"><b><i style=\"display:none;\">earthquake</i><a href=\"/Earthquake/earthquake.php?id=945034\">2021-02-02   12:55:04.4</a></b><i class=\"ago\" id=\"ago20\">2hr 32min ago</i></td><td class=\"tabev1\">38.96 </td><td class=\"tabev2\">N  </td><td class=\"tabev1\">26.04 </td><td class=\"tabev2\">E  </td><td class=\"tabev3\">6</td><td class=\"tabev5\" id=\"magtyp20\">ML</td><td class=\"tabev2\">2.6</td><td class=\"tb_region\" id=\"reg20\"> NEAR THE COAST OF WESTERN TURKEY</td><td class=\"comment updatetimeno\" id=\"upd20\" style=\"text-align:right;\">2021-02-02 14:03</td></tr>\n",
       " <tr class=\"ligne2 normal\" id=\"945033\" onclick=\"go_details(event,945033);\"><td class=\"tabev0\"></td><td class=\"tabev0\"></td><td class=\"tabev0\"></td><td class=\"tabev6\"><b><i style=\"display:none;\">earthquake</i><a href=\"/Earthquake/earthquake.php?id=945033\">2021-02-02   12:39:58.0</a></b><i class=\"ago\" id=\"ago21\">2hr 47min ago</i></td><td class=\"tabev1\">1.05 </td><td class=\"tabev2\">S  </td><td class=\"tabev1\">78.30 </td><td class=\"tabev2\">W  </td><td class=\"tabev3\">2</td><td class=\"tabev5\" id=\"magtyp21\"> M</td><td class=\"tabev2\">3.5</td><td class=\"tb_region\" id=\"reg21\"> ECUADOR</td><td class=\"comment updatetimeno\" id=\"upd21\" style=\"text-align:right;\">2021-02-02 12:51</td></tr>\n",
       " <tr class=\"ligne1 normal\" id=\"945031\" onclick=\"go_details(event,945031);\"><td class=\"tabev0\"></td><td class=\"tabev0\"></td><td class=\"tabev0\"></td><td class=\"tabev6\"><b><i style=\"display:none;\">earthquake</i><a href=\"/Earthquake/earthquake.php?id=945031\">2021-02-02   12:30:56.3</a></b><i class=\"ago\" id=\"ago22\">2hr 56min ago</i></td><td class=\"tabev1\">46.91 </td><td class=\"tabev2\">N  </td><td class=\"tabev1\">9.55 </td><td class=\"tabev2\">E  </td><td class=\"tabev3\">2</td><td class=\"tabev5\" id=\"magtyp22\">ML</td><td class=\"tabev2\">1.9</td><td class=\"tb_region\" id=\"reg22\"> SWITZERLAND</td><td class=\"comment updatetimeno\" id=\"upd22\" style=\"text-align:right;\">2021-02-02 12:36</td></tr>\n",
       " <tr class=\"ligne2 normal\" id=\"945032\" onclick=\"go_details(event,945032);\"><td class=\"tabev0\"></td><td class=\"tabev0\"></td><td class=\"tabev0\"></td><td class=\"tabev6\"><b><i style=\"display:none;\">earthquake</i><a href=\"/Earthquake/earthquake.php?id=945032\">2021-02-02   12:28:02.2</a></b><i class=\"ago\" id=\"ago23\">2hr 59min ago</i></td><td class=\"tabev1\">39.02 </td><td class=\"tabev2\">N  </td><td class=\"tabev1\">41.77 </td><td class=\"tabev2\">E  </td><td class=\"tabev3\">7</td><td class=\"tabev5\" id=\"magtyp23\">ML</td><td class=\"tabev2\">2.1</td><td class=\"tb_region\" id=\"reg23\"> EASTERN TURKEY</td><td class=\"comment updatetimeno\" id=\"upd23\" style=\"text-align:right;\">2021-02-02 12:38</td></tr>\n",
       " <tr class=\"ligne1 normal\" id=\"945040\" onclick=\"go_details(event,945040);\"><td class=\"tabev0\"></td><td class=\"tabev0\"></td><td class=\"tabev0\"></td><td class=\"tabev6\"><b><i style=\"display:none;\">earthquake</i><a href=\"/Earthquake/earthquake.php?id=945040\">2021-02-02   12:03:55.0</a></b><i class=\"ago\" id=\"ago24\">3hr 23min ago</i></td><td class=\"tabev1\">20.31 </td><td class=\"tabev2\">N  </td><td class=\"tabev1\">70.67 </td><td class=\"tabev2\">W  </td><td class=\"tabev3\">10</td><td class=\"tabev5\" id=\"magtyp24\"> M</td><td class=\"tabev2\">3.1</td><td class=\"tb_region\" id=\"reg24\"> DOMINICAN REPUBLIC REGION</td><td class=\"comment updatetimeno\" id=\"upd24\" style=\"text-align:right;\">2021-02-02 13:12</td></tr>\n",
       " <tr class=\"ligne2 normal\" id=\"945028\" onclick=\"go_details(event,945028);\"><td class=\"tabev0\"></td><td class=\"tabev0\"></td><td class=\"tabev0\"></td><td class=\"tabev6\"><b><i style=\"display:none;\">earthquake</i><a href=\"/Earthquake/earthquake.php?id=945028\">2021-02-02   11:32:18.0</a></b><i class=\"ago\" id=\"ago25\">3hr 55min ago</i></td><td class=\"tabev1\">25.61 </td><td class=\"tabev2\">S  </td><td class=\"tabev1\">70.81 </td><td class=\"tabev2\">W  </td><td class=\"tabev3\">36</td><td class=\"tabev5\" id=\"magtyp25\">ML</td><td class=\"tabev2\">2.9</td><td class=\"tb_region\" id=\"reg25\"> OFFSHORE ANTOFAGASTA, CHILE</td><td class=\"comment updatetimeno\" id=\"upd25\" style=\"text-align:right;\">2021-02-02 12:02</td></tr>\n",
       " <tr class=\"ligne1 normal\" id=\"945041\" onclick=\"go_details(event,945041);\"><td class=\"tabev0\"></td><td class=\"tabev0\"></td><td class=\"tabev0\"></td><td class=\"tabev6\"><b><i style=\"display:none;\">earthquake</i><a href=\"/Earthquake/earthquake.php?id=945041\">2021-02-02   11:25:30.0</a></b><i class=\"ago\" id=\"ago26\">4hr 02min ago</i></td><td class=\"tabev1\">9.63 </td><td class=\"tabev2\">N  </td><td class=\"tabev1\">84.92 </td><td class=\"tabev2\">W  </td><td class=\"tabev3\">18</td><td class=\"tabev5\" id=\"magtyp26\"> M</td><td class=\"tabev2\">3.0</td><td class=\"tb_region\" id=\"reg26\"> COSTA RICA</td><td class=\"comment updatetimeno\" id=\"upd26\" style=\"text-align:right;\">2021-02-02 13:21</td></tr>\n",
       " <tr class=\"ligne2 normal\" id=\"945025\" onclick=\"go_details(event,945025);\"><td class=\"tabev0\"></td><td class=\"tabev0\"></td><td class=\"tabev0\"></td><td class=\"tabev6\"><b><i style=\"display:none;\">earthquake</i><a href=\"/Earthquake/earthquake.php?id=945025\">2021-02-02   11:09:10.0</a></b><i class=\"ago\" id=\"ago27\">4hr 18min ago</i></td><td class=\"tabev1\">20.17 </td><td class=\"tabev2\">S  </td><td class=\"tabev1\">69.11 </td><td class=\"tabev2\">W  </td><td class=\"tabev3\">101</td><td class=\"tabev5\" id=\"magtyp27\">ML</td><td class=\"tabev2\">2.8</td><td class=\"tb_region\" id=\"reg27\"> TARAPACA, CHILE</td><td class=\"comment updatetimeno\" id=\"upd27\" style=\"text-align:right;\">2021-02-02 11:21</td></tr>\n",
       " <tr class=\"ligne1 normal\" id=\"945042\" onclick=\"go_details(event,945042);\"><td class=\"tabev0\"></td><td class=\"tabev0\"></td><td class=\"tabev0\"></td><td class=\"tabev6\"><b><i style=\"display:none;\">earthquake</i><a href=\"/Earthquake/earthquake.php?id=945042\">2021-02-02   11:06:30.0</a></b><i class=\"ago\" id=\"ago28\">4hr 21min ago</i></td><td class=\"tabev1\">10.50 </td><td class=\"tabev2\">N  </td><td class=\"tabev1\">84.90 </td><td class=\"tabev2\">W  </td><td class=\"tabev3\">103</td><td class=\"tabev5\" id=\"magtyp28\"> M</td><td class=\"tabev2\">3.2</td><td class=\"tb_region\" id=\"reg28\"> COSTA RICA</td><td class=\"comment updatetimeno\" id=\"upd28\" style=\"text-align:right;\">2021-02-02 13:21</td></tr>\n",
       " <tr class=\"ligne2 normal\" id=\"945022\" onclick=\"go_details(event,945022);\"><td class=\"tabev0\"></td><td class=\"tabev0\"></td><td class=\"tabev0\"></td><td class=\"tabev6\"><b><i style=\"display:none;\">earthquake</i><a href=\"/Earthquake/earthquake.php?id=945022\">2021-02-02   10:39:18.9</a></b><i class=\"ago\" id=\"ago29\">4hr 48min ago</i></td><td class=\"tabev1\">37.22 </td><td class=\"tabev2\">N  </td><td class=\"tabev1\">3.70 </td><td class=\"tabev2\">W  </td><td class=\"tabev3\">10</td><td class=\"tabev5\" id=\"magtyp29\">ML</td><td class=\"tabev2\">1.7</td><td class=\"tb_region\" id=\"reg29\"> SPAIN</td><td class=\"comment updatetimeno\" id=\"upd29\" style=\"text-align:right;\">2021-02-02 10:45</td></tr>\n",
       " <tr class=\"ligne1 normal\" id=\"945026\" onclick=\"go_details(event,945026);\"><td class=\"tabev0\"></td><td class=\"tabev0\"></td><td class=\"tabev0\"></td><td class=\"tabev6\"><b><i style=\"display:none;\">earthquake</i><a href=\"/Earthquake/earthquake.php?id=945026\">2021-02-02   10:35:26.5</a></b><i class=\"ago\" id=\"ago30\">4hr 52min ago</i></td><td class=\"tabev1\">38.20 </td><td class=\"tabev2\">N  </td><td class=\"tabev1\">117.74 </td><td class=\"tabev2\">W  </td><td class=\"tabev3\">10</td><td class=\"tabev5\" id=\"magtyp30\">ML</td><td class=\"tabev2\">2.8</td><td class=\"tb_region\" id=\"reg30\"> NEVADA</td><td class=\"comment updatetimeno\" id=\"upd30\" style=\"text-align:right;\">2021-02-02 11:53</td></tr>\n",
       " <tr class=\"ligne2 normal\" id=\"945020\" onclick=\"go_details(event,945020);\"><td class=\"tabev0\"></td><td class=\"tabev0\"></td><td class=\"tabev0\"></td><td class=\"tabev6\"><b><i style=\"display:none;\">earthquake</i><a href=\"/Earthquake/earthquake.php?id=945020\">2021-02-02   10:28:53.0</a></b><i class=\"ago\" id=\"ago31\">4hr 58min ago</i></td><td class=\"tabev1\">0.19 </td><td class=\"tabev2\">N  </td><td class=\"tabev1\">119.85 </td><td class=\"tabev2\">E  </td><td class=\"tabev3\">10</td><td class=\"tabev5\" id=\"magtyp31\"> M</td><td class=\"tabev2\">3.1</td><td class=\"tb_region\" id=\"reg31\"> MINAHASA, SULAWESI, INDONESIA</td><td class=\"comment updatetimeno\" id=\"upd31\" style=\"text-align:right;\">2021-02-02 10:35</td></tr>\n",
       " <tr class=\"ligne1 normal\" id=\"945019\" onclick=\"go_details(event,945019);\"><td class=\"tabev0\"></td><td class=\"tabev0\"></td><td class=\"tabev0\"></td><td class=\"tabev6\"><b><i style=\"display:none;\">earthquake</i><a href=\"/Earthquake/earthquake.php?id=945019\">2021-02-02   10:17:36.2</a></b><i class=\"ago\" id=\"ago32\">5hr 09min ago</i></td><td class=\"tabev1\">17.94 </td><td class=\"tabev2\">N  </td><td class=\"tabev1\">66.98 </td><td class=\"tabev2\">W  </td><td class=\"tabev3\">11</td><td class=\"tabev5\" id=\"magtyp32\">Md</td><td class=\"tabev2\">2.5</td><td class=\"tb_region\" id=\"reg32\"> PUERTO RICO REGION</td><td class=\"comment updatetimeno\" id=\"upd32\" style=\"text-align:right;\">2021-02-02 10:28</td></tr>\n",
       " <tr class=\"ligne2 normal\" id=\"945021\" onclick=\"go_details(event,945021);\"><td class=\"tabev0\"></td><td class=\"tabev0\"></td><td class=\"tabev0\"></td><td class=\"tabev6\"><b><i style=\"display:none;\">earthquake</i><a href=\"/Earthquake/earthquake.php?id=945021\">2021-02-02   10:15:03.1</a></b><i class=\"ago\" id=\"ago33\">5hr 12min ago</i></td><td class=\"tabev1\">18.65 </td><td class=\"tabev2\">N  </td><td class=\"tabev1\">66.89 </td><td class=\"tabev2\">W  </td><td class=\"tabev3\">96</td><td class=\"tabev5\" id=\"magtyp33\">Md</td><td class=\"tabev2\">3.0</td><td class=\"tb_region\" id=\"reg33\"> PUERTO RICO REGION</td><td class=\"comment updatetimeno\" id=\"upd33\" style=\"text-align:right;\">2021-02-02 10:43</td></tr>\n",
       " <tr class=\"ligne1 normal\" id=\"945052\" onclick=\"go_details(event,945052);\"><td class=\"tabev0\"></td><td class=\"tabev0\"></td><td class=\"tabev0\"></td><td class=\"tabev6\"><b><i style=\"display:none;\">earthquake</i><a href=\"/Earthquake/earthquake.php?id=945052\">2021-02-02   10:12:19.0</a></b><i class=\"ago\" id=\"ago34\">5hr 15min ago</i></td><td class=\"tabev1\">17.89 </td><td class=\"tabev2\">N  </td><td class=\"tabev1\">95.10 </td><td class=\"tabev2\">W  </td><td class=\"tabev3\">117</td><td class=\"tabev5\" id=\"magtyp34\"> M</td><td class=\"tabev2\">3.3</td><td class=\"tb_region\" id=\"reg34\"> VERACRUZ, MEXICO</td><td class=\"comment updatetimeno\" id=\"upd34\" style=\"text-align:right;\">2021-02-02 14:01</td></tr>\n",
       " <tr class=\"ligne2 normal\" id=\"945015\" onclick=\"go_details(event,945015);\"><td class=\"tabev0\"></td><td class=\"tabev0\"></td><td class=\"tabev0\"></td><td class=\"tabev6\"><b><i style=\"display:none;\">earthquake</i><a href=\"/Earthquake/earthquake.php?id=945015\">2021-02-02   10:08:55.6</a></b><i class=\"ago\" id=\"ago35\">5hr 18min ago</i></td><td class=\"tabev1\">44.69 </td><td class=\"tabev2\">N  </td><td class=\"tabev1\">109.98 </td><td class=\"tabev2\">W  </td><td class=\"tabev3\">18</td><td class=\"tabev5\" id=\"magtyp35\">Ml</td><td class=\"tabev2\">2.4</td><td class=\"tb_region\" id=\"reg35\"> YELLOWSTONE NAT. PARK, WYOMING</td><td class=\"comment updatetimeno\" id=\"upd35\" style=\"text-align:right;\">2021-02-02 14:08</td></tr>\n",
       " <tr class=\"ligne1 normal\" id=\"945017\" onclick=\"go_details(event,945017);\"><td class=\"tabev0\"></td><td class=\"tabev0\"></td><td class=\"tabev0\"></td><td class=\"tabev6\"><b><i style=\"display:none;\">earthquake</i><a href=\"/Earthquake/earthquake.php?id=945017\">2021-02-02   10:06:30.0</a></b><i class=\"ago\" id=\"ago36\">5hr 21min ago</i></td><td class=\"tabev1\">20.05 </td><td class=\"tabev2\">S  </td><td class=\"tabev1\">69.21 </td><td class=\"tabev2\">W  </td><td class=\"tabev3\">95</td><td class=\"tabev5\" id=\"magtyp36\">ML</td><td class=\"tabev2\">2.7</td><td class=\"tb_region\" id=\"reg36\"> TARAPACA, CHILE</td><td class=\"comment updatetimeno\" id=\"upd36\" style=\"text-align:right;\">2021-02-02 10:19</td></tr>\n",
       " <tr class=\"ligne2 normal\" id=\"945059\" onclick=\"go_details(event,945059);\"><td class=\"tabev0\"></td><td class=\"tabev0\"></td><td class=\"tabev0\"></td><td class=\"tabev6\"><b><i style=\"display:none;\">earthquake</i><a href=\"/Earthquake/earthquake.php?id=945059\">2021-02-02   10:06:12.0</a></b><i class=\"ago\" id=\"ago37\">5hr 21min ago</i></td><td class=\"tabev1\">18.24 </td><td class=\"tabev2\">N  </td><td class=\"tabev1\">100.92 </td><td class=\"tabev2\">W  </td><td class=\"tabev3\">63</td><td class=\"tabev5\" id=\"magtyp37\"> M</td><td class=\"tabev2\">3.7</td><td class=\"tb_region\" id=\"reg37\"> GUERRERO, MEXICO</td><td class=\"comment updatetimeno\" id=\"upd37\" style=\"text-align:right;\">2021-02-02 14:01</td></tr>\n",
       " <tr class=\"ligne1 normal\" id=\"945012\" onclick=\"go_details(event,945012);\"><td class=\"tabev0\"></td><td class=\"tabev0\"></td><td class=\"tabev0\"></td><td class=\"tabev6\"><b><i style=\"display:none;\">earthquake</i><a href=\"/Earthquake/earthquake.php?id=945012\">2021-02-02   09:56:49.5</a></b><i class=\"ago\" id=\"ago38\">5hr 30min ago</i></td><td class=\"tabev1\">35.10 </td><td class=\"tabev2\">N  </td><td class=\"tabev1\">25.22 </td><td class=\"tabev2\">E  </td><td class=\"tabev3\">9</td><td class=\"tabev5\" id=\"magtyp38\">ML</td><td class=\"tabev2\">2.8</td><td class=\"tb_region\" id=\"reg38\"> CRETE, GREECE</td><td class=\"comment updatetimeno\" id=\"upd38\" style=\"text-align:right;\">2021-02-02 11:06</td></tr>\n",
       " <tr class=\"ligne2 normal\" id=\"945008\" onclick=\"go_details(event,945008);\"><td class=\"tabev0\"></td><td class=\"tabev0\"></td><td class=\"tabev0\"></td><td class=\"tabev6\"><b><i style=\"display:none;\">earthquake</i><a href=\"/Earthquake/earthquake.php?id=945008\">2021-02-02   09:36:30.0</a></b><i class=\"ago\" id=\"ago39\">5hr 51min ago</i></td><td class=\"tabev1\">37.70 </td><td class=\"tabev2\">N  </td><td class=\"tabev1\">141.80 </td><td class=\"tabev2\">E  </td><td class=\"tabev3\">50</td><td class=\"tabev5\" id=\"magtyp39\"> M</td><td class=\"tabev2\">3.9</td><td class=\"tb_region\" id=\"reg39\"> NEAR EAST COAST OF HONSHU, JAPAN</td><td class=\"comment updatetimeno\" id=\"upd39\" style=\"text-align:right;\">2021-02-02 09:45</td></tr>\n",
       " <tr class=\"ligne1 normal\" id=\"945007\" onclick=\"go_details(event,945007);\"><td class=\"tabev0\"></td><td class=\"tabev0\"></td><td class=\"tabev0\"></td><td class=\"tabev6\"><b><i style=\"display:none;\">earthquake</i><a href=\"/Earthquake/earthquake.php?id=945007\">2021-02-02   09:18:05.0</a></b><i class=\"ago\" id=\"ago40\">6hr 09min ago</i></td><td class=\"tabev1\">24.33 </td><td class=\"tabev2\">S  </td><td class=\"tabev1\">67.18 </td><td class=\"tabev2\">W  </td><td class=\"tabev3\">195</td><td class=\"tabev5\" id=\"magtyp40\"> M</td><td class=\"tabev2\">3.2</td><td class=\"tb_region\" id=\"reg40\"> SALTA, ARGENTINA</td><td class=\"comment updatetimeno\" id=\"upd40\" style=\"text-align:right;\">2021-02-02 09:26</td></tr>\n",
       " <tr class=\"ligne2 normal\" id=\"945024\" onclick=\"go_details(event,945024);\"><td class=\"tabev0\"></td><td class=\"tabev0\"></td><td class=\"tabev0\"></td><td class=\"tabev6\"><b><i style=\"display:none;\">earthquake</i><a href=\"/Earthquake/earthquake.php?id=945024\">2021-02-02   09:03:23.0</a></b><i class=\"ago\" id=\"ago41\">6hr 24min ago</i></td><td class=\"tabev1\">40.89 </td><td class=\"tabev2\">N  </td><td class=\"tabev1\">50.60 </td><td class=\"tabev2\">E  </td><td class=\"tabev3\">50</td><td class=\"tabev5\" id=\"magtyp41\">mb</td><td class=\"tabev2\">4.0</td><td class=\"tb_region\" id=\"reg41\"> CASPIAN SEA, OFFSHORE AZERBAIJAN</td><td class=\"comment updatetimeno\" id=\"upd41\" style=\"text-align:right;\">2021-02-02 11:13</td></tr>\n",
       " <tr class=\"ligne1 normal\" id=\"945013\" onclick=\"go_details(event,945013);\"><td class=\"tabev0\"></td><td class=\"tabev0\"></td><td class=\"tabev0\"></td><td class=\"tabev6\"><b><i style=\"display:none;\">earthquake</i><a href=\"/Earthquake/earthquake.php?id=945013\">2021-02-02   09:01:58.2</a></b><i class=\"ago\" id=\"ago42\">6hr 25min ago</i></td><td class=\"tabev1\">15.08 </td><td class=\"tabev2\">S  </td><td class=\"tabev1\">71.82 </td><td class=\"tabev2\">W  </td><td class=\"tabev3\">100</td><td class=\"tabev5\" id=\"magtyp42\">mb</td><td class=\"tabev2\">4.2</td><td class=\"tb_region\" id=\"reg42\"> SOUTHERN PERU</td><td class=\"comment updatetimeno\" id=\"upd42\" style=\"text-align:right;\">2021-02-02 10:03</td></tr>\n",
       " <tr class=\"ligne2 normal\" id=\"945006\" onclick=\"go_details(event,945006);\"><td class=\"tabev0\"></td><td class=\"tabev0\"></td><td class=\"tabev0\"><span class=\"intensity\" onclick=\"go_details(event,null,'https://www.emsc-csem.org/Earthquake/popup_intensmap.php?id=945006&amp;f=/FELTREPORTS/94/945006/IntensityMap.png');\" onmouseout=\"info_b2('notshow','');\" onmouseover=\"info_b2('show','See the &lt;b&gt; Intensity map&lt;/b&gt;');\" style=\"background-color:#FFFFFF;\">F</span></td><td class=\"tabev6\"><b><i style=\"display:none;\">earthquake</i><a href=\"/Earthquake/earthquake.php?id=945006\">2021-02-02   08:58:30.0</a></b><i class=\"ago\" id=\"ago43\">6hr 29min ago</i></td><td class=\"tabev1\">38.94 </td><td class=\"tabev2\">N  </td><td class=\"tabev1\">26.06 </td><td class=\"tabev2\">E  </td><td class=\"tabev3\">11</td><td class=\"tabev5\" id=\"magtyp43\">ML</td><td class=\"tabev2\">3.2</td><td class=\"tb_region\" id=\"reg43\"> NEAR THE COAST OF WESTERN TURKEY</td><td class=\"comment updatetimeno\" id=\"upd43\" style=\"text-align:right;\">2021-02-02 09:58</td></tr>\n",
       " <tr class=\"ligne1 normal\" id=\"945061\" onclick=\"go_details(event,945061);\"><td class=\"tabev0\"></td><td class=\"tabev0\"></td><td class=\"tabev0\"></td><td class=\"tabev6\"><b><i style=\"display:none;\">earthquake</i><a href=\"/Earthquake/earthquake.php?id=945061\">2021-02-02   08:52:11.0</a></b><i class=\"ago\" id=\"ago44\">6hr 35min ago</i></td><td class=\"tabev1\">17.34 </td><td class=\"tabev2\">N  </td><td class=\"tabev1\">94.89 </td><td class=\"tabev2\">W  </td><td class=\"tabev3\">125</td><td class=\"tabev5\" id=\"magtyp44\"> M</td><td class=\"tabev2\">3.8</td><td class=\"tb_region\" id=\"reg44\"> VERACRUZ, MEXICO</td><td class=\"comment updatetimeno\" id=\"upd44\" style=\"text-align:right;\">2021-02-02 14:01</td></tr>\n",
       " <tr class=\"ligne2 normal\" id=\"944999\" onclick=\"go_details(event,944999);\"><td class=\"tabev0\"></td><td class=\"tabev0\"></td><td class=\"tabev0\"></td><td class=\"tabev6\"><b><i style=\"display:none;\">earthquake</i><a href=\"/Earthquake/earthquake.php?id=944999\">2021-02-02   08:37:16.3</a></b><i class=\"ago\" id=\"ago45\">6hr 50min ago</i></td><td class=\"tabev1\">33.58 </td><td class=\"tabev2\">N  </td><td class=\"tabev1\">116.81 </td><td class=\"tabev2\">W  </td><td class=\"tabev3\">7</td><td class=\"tabev5\" id=\"magtyp45\">Ml</td><td class=\"tabev2\">2.0</td><td class=\"tb_region\" id=\"reg45\"> SOUTHERN CALIFORNIA</td><td class=\"comment updatetimeno\" id=\"upd45\" style=\"text-align:right;\">2021-02-02 08:41</td></tr>\n",
       " <tr class=\"ligne1 normal\" id=\"945001\" onclick=\"go_details(event,945001);\"><td class=\"tabev0\"></td><td class=\"tabev0\"></td><td class=\"tabev0\"></td><td class=\"tabev6\"><b><i style=\"display:none;\">earthquake</i><a href=\"/Earthquake/earthquake.php?id=945001\">2021-02-02   08:35:53.0</a></b><i class=\"ago\" id=\"ago46\">6hr 51min ago</i></td><td class=\"tabev1\">4.69 </td><td class=\"tabev2\">N  </td><td class=\"tabev1\">94.99 </td><td class=\"tabev2\">E  </td><td class=\"tabev3\">105</td><td class=\"tabev5\" id=\"magtyp46\"> M</td><td class=\"tabev2\">4.0</td><td class=\"tb_region\" id=\"reg46\"> OFF W COAST OF NORTHERN SUMATRA</td><td class=\"comment updatetimeno\" id=\"upd46\" style=\"text-align:right;\">2021-02-02 08:40</td></tr>\n",
       " <tr class=\"ligne2 normal\" id=\"945003\" onclick=\"go_details(event,945003);\"><td class=\"tabev0\"></td><td class=\"tabev0\"></td><td class=\"tabev0\"></td><td class=\"tabev6\"><b><i style=\"display:none;\">earthquake</i><a href=\"/Earthquake/earthquake.php?id=945003\">2021-02-02   08:29:29.6</a></b><i class=\"ago\" id=\"ago47\">6hr 58min ago</i></td><td class=\"tabev1\">38.39 </td><td class=\"tabev2\">N  </td><td class=\"tabev1\">44.50 </td><td class=\"tabev2\">E  </td><td class=\"tabev3\">1</td><td class=\"tabev5\" id=\"magtyp47\">ML</td><td class=\"tabev2\">2.4</td><td class=\"tb_region\" id=\"reg47\"> TURKEY-IRAN BORDER REGION</td><td class=\"comment updatetimeno\" id=\"upd47\" style=\"text-align:right;\">2021-02-02 11:08</td></tr>\n",
       " <tr class=\"ligne1 normal\" id=\"945060\" onclick=\"go_details(event,945060);\"><td class=\"tabev0\"></td><td class=\"tabev0\"></td><td class=\"tabev0\"></td><td class=\"tabev6\"><b><i style=\"display:none;\">earthquake</i><a href=\"/Earthquake/earthquake.php?id=945060\">2021-02-02   08:14:36.0</a></b><i class=\"ago\" id=\"ago48\">7hr 12min ago</i></td><td class=\"tabev1\">18.68 </td><td class=\"tabev2\">N  </td><td class=\"tabev1\">106.34 </td><td class=\"tabev2\">W  </td><td class=\"tabev3\">12</td><td class=\"tabev5\" id=\"magtyp48\"> M</td><td class=\"tabev2\">4.0</td><td class=\"tb_region\" id=\"reg48\"> OFF COAST OF JALISCO, MEXICO</td><td class=\"comment updatetimeno\" id=\"upd48\" style=\"text-align:right;\">2021-02-02 14:01</td></tr>\n",
       " <tr class=\"ligne2 normal\" id=\"945018\" onclick=\"go_details(event,945018);\"><td class=\"tabev0\"></td><td class=\"tabev0\"></td><td class=\"tabev0\"></td><td class=\"tabev6\"><b><i style=\"display:none;\">earthquake</i><a href=\"/Earthquake/earthquake.php?id=945018\">2021-02-02   08:10:49.0</a></b><i class=\"ago\" id=\"ago49\">7hr 16min ago</i></td><td class=\"tabev1\">19.00 </td><td class=\"tabev2\">N  </td><td class=\"tabev1\">70.43 </td><td class=\"tabev2\">W  </td><td class=\"tabev3\">23</td><td class=\"tabev5\" id=\"magtyp49\"> M</td><td class=\"tabev2\">2.8</td><td class=\"tb_region\" id=\"reg49\"> DOMINICAN REPUBLIC</td><td class=\"comment updatetimeno\" id=\"upd49\" style=\"text-align:right;\">2021-02-02 10:21</td></tr>\n",
       " </tbody>]"
      ]
     },
     "execution_count": 146,
     "metadata": {},
     "output_type": "execute_result"
    }
   ],
   "source": [
    "# your code here\n",
    "\n",
    "response= requests.get(url)\n",
    "soup= BeautifulSoup(response.text, 'html.parser')\n",
    "\n",
    "date= soup.find_all('tbody')\n",
    "trs=[l.get()]\n",
    "\n"
   ]
  },
  {
   "cell_type": "markdown",
   "metadata": {},
   "source": [
    "#### Count the number of tweets by a given Twitter account.\n",
    "Ask the user for the handle (@handle) of a twitter account. You will need to include a ***try/except block*** for account names not found. \n",
    "<br>***Hint:*** the program should count the number of tweets for any provided account."
   ]
  },
  {
   "cell_type": "code",
   "execution_count": null,
   "metadata": {},
   "outputs": [],
   "source": [
    "# This is the url you will scrape in this exercise \n",
    "# You will need to add the account credentials to this url\n",
    "url = 'https://twitter.com/'"
   ]
  },
  {
   "cell_type": "code",
   "execution_count": null,
   "metadata": {},
   "outputs": [],
   "source": [
    "# your code here"
   ]
  },
  {
   "cell_type": "markdown",
   "metadata": {},
   "source": [
    "#### Number of followers of a given twitter account\n",
    "Ask the user for the handle (@handle) of a twitter account. You will need to include a ***try/except block*** for account names not found. \n",
    "<br>***Hint:*** the program should count the followers for any provided account."
   ]
  },
  {
   "cell_type": "code",
   "execution_count": null,
   "metadata": {},
   "outputs": [],
   "source": [
    "# This is the url you will scrape in this exercise \n",
    "# You will need to add the account credentials to this url\n",
    "url = 'https://twitter.com/'"
   ]
  },
  {
   "cell_type": "code",
   "execution_count": null,
   "metadata": {},
   "outputs": [],
   "source": [
    "# your code here"
   ]
  },
  {
   "cell_type": "markdown",
   "metadata": {},
   "source": [
    "#### List all language names and number of related articles in the order they appear in wikipedia.org."
   ]
  },
  {
   "cell_type": "code",
   "execution_count": null,
   "metadata": {},
   "outputs": [],
   "source": [
    "# This is the url you will scrape in this exercise\n",
    "url = 'https://www.wikipedia.org/'"
   ]
  },
  {
   "cell_type": "code",
   "execution_count": null,
   "metadata": {},
   "outputs": [],
   "source": [
    "# your code here"
   ]
  },
  {
   "cell_type": "markdown",
   "metadata": {},
   "source": [
    "#### A list with the different kind of datasets available in data.gov.uk."
   ]
  },
  {
   "cell_type": "code",
   "execution_count": null,
   "metadata": {},
   "outputs": [],
   "source": [
    "# This is the url you will scrape in this exercise\n",
    "url = 'https://data.gov.uk/'"
   ]
  },
  {
   "cell_type": "code",
   "execution_count": null,
   "metadata": {},
   "outputs": [],
   "source": [
    "# your code here"
   ]
  },
  {
   "cell_type": "markdown",
   "metadata": {},
   "source": [
    "#### Display the top 10 languages by number of native speakers stored in a pandas dataframe."
   ]
  },
  {
   "cell_type": "code",
   "execution_count": null,
   "metadata": {},
   "outputs": [],
   "source": [
    "# This is the url you will scrape in this exercise\n",
    "url = 'https://en.wikipedia.org/wiki/List_of_languages_by_number_of_native_speakers'"
   ]
  },
  {
   "cell_type": "code",
   "execution_count": null,
   "metadata": {},
   "outputs": [],
   "source": [
    "# your code here"
   ]
  },
  {
   "cell_type": "markdown",
   "metadata": {},
   "source": [
    "## Bonus\n",
    "#### Scrape a certain number of tweets of a given Twitter account."
   ]
  },
  {
   "cell_type": "code",
   "execution_count": null,
   "metadata": {},
   "outputs": [],
   "source": [
    "# This is the url you will scrape in this exercise \n",
    "# You will need to add the account credentials to this url\n",
    "url = 'https://twitter.com/'"
   ]
  },
  {
   "cell_type": "code",
   "execution_count": null,
   "metadata": {},
   "outputs": [],
   "source": [
    "# your code here"
   ]
  },
  {
   "cell_type": "markdown",
   "metadata": {},
   "source": [
    "#### Display IMDB's top 250 data (movie name, initial release, director name and stars) as a pandas dataframe."
   ]
  },
  {
   "cell_type": "code",
   "execution_count": null,
   "metadata": {},
   "outputs": [],
   "source": [
    "# This is the url you will scrape in this exercise \n",
    "url = 'https://www.imdb.com/chart/top'"
   ]
  },
  {
   "cell_type": "code",
   "execution_count": null,
   "metadata": {},
   "outputs": [],
   "source": [
    "# your code here"
   ]
  },
  {
   "cell_type": "markdown",
   "metadata": {},
   "source": [
    "#### Display the movie name, year and a brief summary of the top 10 random movies (IMDB) as a pandas dataframe."
   ]
  },
  {
   "cell_type": "code",
   "execution_count": null,
   "metadata": {},
   "outputs": [],
   "source": [
    "#This is the url you will scrape in this exercise\n",
    "url = 'http://www.imdb.com/chart/top'"
   ]
  },
  {
   "cell_type": "code",
   "execution_count": null,
   "metadata": {},
   "outputs": [],
   "source": [
    "# your code here"
   ]
  },
  {
   "cell_type": "markdown",
   "metadata": {},
   "source": [
    "#### Find the live weather report (temperature, wind speed, description and weather) of a given city."
   ]
  },
  {
   "cell_type": "code",
   "execution_count": null,
   "metadata": {},
   "outputs": [],
   "source": [
    "#https://openweathermap.org/current\n",
    "city = input('Enter the city: ')\n",
    "url = 'http://api.openweathermap.org/data/2.5/weather?'+'q='+city+'&APPID=b35975e18dc93725acb092f7272cc6b8&units=metric'"
   ]
  },
  {
   "cell_type": "code",
   "execution_count": null,
   "metadata": {},
   "outputs": [],
   "source": [
    "# your code here"
   ]
  },
  {
   "cell_type": "markdown",
   "metadata": {},
   "source": [
    "#### Find the book name, price and stock availability as a pandas dataframe."
   ]
  },
  {
   "cell_type": "code",
   "execution_count": null,
   "metadata": {},
   "outputs": [],
   "source": [
    "# This is the url you will scrape in this exercise. \n",
    "# It is a fictional bookstore created to be scraped. \n",
    "url = 'http://books.toscrape.com/'"
   ]
  },
  {
   "cell_type": "code",
   "execution_count": null,
   "metadata": {},
   "outputs": [],
   "source": [
    "# your code here"
   ]
  }
 ],
 "metadata": {
  "kernelspec": {
   "display_name": "Python [conda env:ironhack_env]",
   "language": "python",
   "name": "conda-env-ironhack_env-py"
  },
  "language_info": {
   "codemirror_mode": {
    "name": "ipython",
    "version": 3
   },
   "file_extension": ".py",
   "mimetype": "text/x-python",
   "name": "python",
   "nbconvert_exporter": "python",
   "pygments_lexer": "ipython3",
   "version": "3.8.5"
  }
 },
 "nbformat": 4,
 "nbformat_minor": 4
}
